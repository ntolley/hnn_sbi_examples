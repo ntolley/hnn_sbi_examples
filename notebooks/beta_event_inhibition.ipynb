{
 "cells": [
  {
   "cell_type": "code",
   "execution_count": null,
   "metadata": {},
   "outputs": [],
   "source": [
    "import numpy as np\n",
    "import matplotlib.pyplot as plt\n",
    "from matplotlib.offsetbox import OffsetImage, AnnotationBbox\n",
    "from ipywidgets import interact, SelectionSlider, Layout\n",
    "\n",
    "import sys\n",
    "sys.path.append('../code/')\n",
    "device = 'cpu'"
   ]
  },
  {
   "cell_type": "code",
   "execution_count": null,
   "metadata": {},
   "outputs": [],
   "source": [
    "labels = ['L2 Inhib', 'L5 Inhib', 'L2 Prob']\n",
    "\n",
    "dpl_data = np.load('../data/grid_sweep/dpl_sim_grid.npy')\n",
    "theta_samples = np.load('../data/grid_sweep/theta_sim_grid.npy')\n",
    "\n",
    "\n",
    "n_sims, n_params = theta_samples.shape\n",
    "param_values = [np.unique(theta_samples[:, idx]) for idx in range(n_params)]\n",
    "lookup_dict = {tuple(theta_samples[idx,:]): idx for idx in range(n_sims)}\n",
    "\n",
    "slider_dict = {f'p{idx}': SelectionSlider(options=param_values[idx],\n",
    "               description=labels[idx], style={'description_width': '150px'},\n",
    "               layout=Layout(width='500px')) for \n",
    "               idx in range(len(param_values))}\n"
   ]
  },
  {
   "cell_type": "code",
   "execution_count": null,
   "metadata": {},
   "outputs": [],
   "source": []
  },
  {
   "cell_type": "code",
   "execution_count": null,
   "metadata": {},
   "outputs": [],
   "source": [
    "%matplotlib widget\n",
    "\n",
    "fig, axes = plt.subplots(1, 2, figsize=(7,3), tight_layout=True, gridspec_kw={'width_ratios': [1, 0.7]})\n",
    "\n",
    "@interact(**slider_dict)\n",
    "def plot_dipole(p0, p1, p2):\n",
    "    idx = lookup_dict[(p0, p1, p2)]\n",
    "    for line in axes[0].get_lines(): # ax.lines:\n",
    "        line.remove()\n",
    "\n",
    "    axes[1].clear()\n",
    "\n",
    "    axes[0].plot(dpl_data[idx,:], color='C3')\n",
    "    axes[0].set_ylabel('Dipole (nAm)')\n",
    "    axes[0].set_xlabel('Time (ms)')\n",
    "    axes[0].set_ylim([-20, 20])\n",
    "    axes[0].set_title(idx)\n",
    "\n",
    "    arr_img = plt.imread(f'../data/marginal_figures/params3_sims10240_nn_features_marginals_{idx}.png')\n",
    "    im = OffsetImage(arr_img, zoom=0.25)\n",
    "    ab = AnnotationBbox(im, (1, 0), xycoords='data', box_alignment=(1.1,-0.1))\n",
    "    axes[1].add_artist(ab)\n",
    "    axes[1].axis('off')\n",
    "\n"
   ]
  },
  {
   "cell_type": "code",
   "execution_count": null,
   "metadata": {},
   "outputs": [],
   "source": []
  },
  {
   "cell_type": "code",
   "execution_count": null,
   "metadata": {},
   "outputs": [],
   "source": []
  },
  {
   "cell_type": "code",
   "execution_count": null,
   "metadata": {},
   "outputs": [],
   "source": []
  }
 ],
 "metadata": {
  "interpreter": {
   "hash": "d0efaeb1f57b331682f483338b2ece2b224a46046d22ccab062f7cb485953279"
  },
  "kernelspec": {
   "display_name": "Python 3.8.3 64-bit ('base': conda)",
   "language": "python",
   "name": "python3"
  },
  "language_info": {
   "codemirror_mode": {
    "name": "ipython",
    "version": 3
   },
   "file_extension": ".py",
   "mimetype": "text/x-python",
   "name": "python",
   "nbconvert_exporter": "python",
   "pygments_lexer": "ipython3",
   "version": "3.7.11"
  },
  "orig_nbformat": 4
 },
 "nbformat": 4,
 "nbformat_minor": 2
}
