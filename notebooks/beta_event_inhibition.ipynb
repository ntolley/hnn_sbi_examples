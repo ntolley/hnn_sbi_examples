{
 "cells": [
  {
   "cell_type": "code",
   "execution_count": 11,
   "metadata": {},
   "outputs": [],
   "source": [
    "import numpy as np\n",
    "import matplotlib.pyplot as plt\n",
    "from itertools import product\n",
    "from ipywidgets import interact, SelectionSlider, Layout"
   ]
  },
  {
   "cell_type": "code",
   "execution_count": 49,
   "metadata": {},
   "outputs": [],
   "source": [
    "labels = ['Prox->L2B Strength', 'Prox->L2B Prob', 'L2B->L5Pyr Strength', 'L2B->L5Pyr Prob']\n",
    "\n",
    "dpl_data = np.load('../data/dpl_sim_uniform.npy')\n",
    "theta_samples = np.load('../data/theta_sim_uniform.npy')\n",
    "\n",
    "\n",
    "n_sims, n_params = theta_samples.shape\n",
    "param_values = [np.unique(theta_samples[:, idx]) for idx in range(n_params)]\n",
    "lookup_dict = {tuple(theta_samples[idx,:]): idx for idx in range(n_sims)}\n",
    "\n",
    "slider_dict = {f'p{idx}': SelectionSlider(options=param_values[idx],\n",
    "               description=labels[idx], style={'description_width': '150px'},\n",
    "               layout=Layout(width='500px')) for \n",
    "               idx in range(len(param_values))}\n"
   ]
  },
  {
   "cell_type": "code",
   "execution_count": 52,
   "metadata": {},
   "outputs": [
    {
     "data": {
      "application/vnd.jupyter.widget-view+json": {
       "model_id": "099f69b83c524fd2bc8e01bfc7f6d6e6",
       "version_major": 2,
       "version_minor": 0
      },
      "text/plain": [
       "interactive(children=(SelectionSlider(description='Prox->L2B Strength', layout=Layout(width='500px'), options=…"
      ]
     },
     "metadata": {},
     "output_type": "display_data"
    }
   ],
   "source": [
    "@interact(**slider_dict)\n",
    "def plot_dipole(p0, p1, p2, p3):\n",
    "    idx = lookup_dict[(p0, p1, p2, p3)]\n",
    "    \n",
    "    plt.figure(figsize=(6,6))\n",
    "    plt.plot(dpl_data[idx,:])\n",
    "    plt.ylabel('Dipole (nAm)')\n",
    "    plt.xlabel('Time (ms)')\n",
    "    plt.ylim([-5, 5])\n",
    "    plt.title(idx)"
   ]
  },
  {
   "cell_type": "code",
   "execution_count": null,
   "metadata": {},
   "outputs": [],
   "source": []
  },
  {
   "cell_type": "code",
   "execution_count": null,
   "metadata": {},
   "outputs": [],
   "source": []
  },
  {
   "cell_type": "code",
   "execution_count": null,
   "metadata": {},
   "outputs": [],
   "source": []
  }
 ],
 "metadata": {
  "interpreter": {
   "hash": "d0efaeb1f57b331682f483338b2ece2b224a46046d22ccab062f7cb485953279"
  },
  "kernelspec": {
   "display_name": "Python 3.8.3 64-bit ('base': conda)",
   "language": "python",
   "name": "python3"
  },
  "language_info": {
   "codemirror_mode": {
    "name": "ipython",
    "version": 3
   },
   "file_extension": ".py",
   "mimetype": "text/x-python",
   "name": "python",
   "nbconvert_exporter": "python",
   "pygments_lexer": "ipython3",
   "version": "3.8.3"
  },
  "orig_nbformat": 4
 },
 "nbformat": 4,
 "nbformat_minor": 2
}
