{
 "cells": [
  {
   "cell_type": "code",
   "execution_count": null,
   "metadata": {},
   "outputs": [],
   "source": [
    "import numpy as np\n",
    "import matplotlib.pyplot as plt\n",
    "from matplotlib.offsetbox import OffsetImage, AnnotationBbox\n",
    "from ipywidgets import interact, SelectionSlider, Layout\n",
    "\n",
    "import sys\n",
    "sys.path.append('../code/')\n",
    "device = 'cpu'"
   ]
  },
  {
   "cell_type": "code",
   "execution_count": null,
   "metadata": {},
   "outputs": [],
   "source": [
    "labels = ['L2 Inhib', 'L5 Inhib', 'L2 Prob']\n",
    "\n",
    "dpl_data = np.load('../data/grid_sweep/dpl_sim_grid.npy')\n",
    "theta_samples = np.load('../data/grid_sweep/theta_sim_grid.npy')\n",
    "\n",
    "\n",
    "n_sims, n_params = theta_samples.shape\n",
    "param_values = [np.unique(theta_samples[:, idx]) for idx in range(n_params)]\n",
    "lookup_dict = {tuple(theta_samples[idx,:]): idx for idx in range(n_sims)}\n",
    "\n",
    "slider_dict = {f'p{idx}': SelectionSlider(options=param_values[idx],\n",
    "               description=labels[idx], style={'description_width': '150px'},\n",
    "               layout=Layout(width='500px')) for \n",
    "               idx in range(len(param_values))}\n"
   ]
  },
  {
   "cell_type": "code",
   "execution_count": null,
   "metadata": {},
   "outputs": [],
   "source": [
    "%matplotlib widget\n",
    "\n",
    "fig, axes = plt.subplots(1, 4, figsize=(11,3), tight_layout=True)\n",
    "input_type_list = ['min_amp', 'nn_features', 'raw_waveform']\n",
    "\n",
    "@interact(**slider_dict)\n",
    "def plot_dipole(p0, p1, p2):\n",
    "    for idx in range(4):\n",
    "        axes[idx].clear()\n",
    "    cond_idx = lookup_dict[(p0, p1, p2)]\n",
    "\n",
    "    axes[3].plot(dpl_data[cond_idx,:], color='C3')\n",
    "    axes[3].set_ylabel('Conditoning Waveform')\n",
    "    axes[3].set_xlabel('Time (ms)')\n",
    "    axes[3].set_ylim([-20, 20])\n",
    "    axes[3].set_title('Dipole')\n",
    "\n",
    "    for idx, input_type in enumerate(input_type_list):\n",
    "        arr_img = plt.imread(f'../data/{input_type}/params3_sims10240_{input_type}_marginals_{cond_idx}.png')\n",
    "        im = OffsetImage(arr_img, zoom=0.23)\n",
    "        ab = AnnotationBbox(im, (1, 0), xycoords='data', box_alignment=(1.1,0), )\n",
    "        axes[idx].add_artist(ab)\n",
    "        axes[idx].axis('off')\n",
    "        axes[idx].set_title(input_type)\n",
    "\n"
   ]
  },
  {
   "cell_type": "code",
   "execution_count": null,
   "metadata": {},
   "outputs": [],
   "source": []
  },
  {
   "cell_type": "code",
   "execution_count": null,
   "metadata": {},
   "outputs": [],
   "source": []
  }
 ],
 "metadata": {
  "interpreter": {
   "hash": "d0efaeb1f57b331682f483338b2ece2b224a46046d22ccab062f7cb485953279"
  },
  "kernelspec": {
   "display_name": "Python 3.8.3 64-bit ('base': conda)",
   "language": "python",
   "name": "python3"
  },
  "language_info": {
   "codemirror_mode": {
    "name": "ipython",
    "version": 3
   },
   "file_extension": ".py",
   "mimetype": "text/x-python",
   "name": "python",
   "nbconvert_exporter": "python",
   "pygments_lexer": "ipython3",
   "version": "3.7.11"
  },
  "orig_nbformat": 4
 },
 "nbformat": 4,
 "nbformat_minor": 2
}
