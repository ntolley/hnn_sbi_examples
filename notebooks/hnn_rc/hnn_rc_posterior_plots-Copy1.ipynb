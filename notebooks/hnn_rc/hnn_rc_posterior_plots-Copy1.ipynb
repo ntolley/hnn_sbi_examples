{
 "cells": [
  {
   "cell_type": "code",
   "execution_count": 2,
   "metadata": {},
   "outputs": [],
   "source": [
    "import sys\n",
    "sys.path.append('../../code/hnn_rc')\n",
    "import torch\n",
    "import numpy as np\n",
    "import matplotlib.pyplot as plt\n",
    "from matplotlib.ticker import FormatStrFormatter\n",
    "import seaborn as sns\n",
    "from sbi import inference as sbi_inference\n",
    "from utils import (linear_scale_forward, hnn_rc_param_function, UniformPrior, linear_scale_array,\n",
    "                   get_dataset_psd, get_dataset_peaks, load_posterior, simulator_hnn)\n",
    "from hnn_core import jones_2009_model\n",
    "from functools import partial\n",
    "import dill\n",
    "from sbi import utils as sbi_utils\n",
    "import pandas as pd\n",
    "from sklearn.decomposition import PCA\n",
    "rng_seed = 123\n",
    "\n",
    "sns.set()\n",
    "sns.set_style(\"white\")\n",
    "\n",
    "device = 'cpu'\n",
    "data_path = '../../data/hnn_rc'\n",
    "\n",
    "with open(f'{data_path}/posteriors/hnn_rc_posterior_dicts.pkl', 'rb') as output_file:\n",
    "    posterior_state_dicts = dill.load(output_file)\n",
    "with open(f'{data_path}/sbi_sims/prior_dict.pkl', 'rb') as output_file:\n",
    "    prior_dict = dill.load(output_file)\n",
    "with open(f'{data_path}/sbi_sims/sim_metadata.pkl', 'rb') as output_file:\n",
    "    sim_metadata = dill.load(output_file)\n",
    "with open(f'{data_path}/posteriors/hnn_rc_posterior_metadata.pkl', 'rb') as output_file:\n",
    "    posterior_metadata = dill.load(output_file)\n",
    "    \n",
    "dt = sim_metadata['dt'] # Sampling interval used for simulation\n",
    "tstop = sim_metadata['tstop'] # Sampling interval used for simulation\n",
    "zero_samples = posterior_metadata['zero_samples']"
   ]
  },
  {
   "cell_type": "code",
   "execution_count": 3,
   "metadata": {},
   "outputs": [
    {
     "name": "stdout",
     "output_type": "stream",
     "text": [
      "prox_weight:(-4, -3) dist_weight:(-4, -3) latency:(-75, 75) "
     ]
    }
   ],
   "source": [
    "# Parameter bounds\n",
    "for param_name, param_dict in prior_dict.items():\n",
    "    print(f'{param_name}:{param_dict[\"bounds\"]}', end=' ')"
   ]
  },
  {
   "cell_type": "code",
   "execution_count": null,
   "metadata": {},
   "outputs": [],
   "source": []
  },
  {
   "cell_type": "markdown",
   "metadata": {},
   "source": [
    "### Generate conditioning waveform"
   ]
  },
  {
   "cell_type": "code",
   "execution_count": 4,
   "metadata": {},
   "outputs": [],
   "source": [
    "net = jones_2009_model()\n",
    "net.clear_connectivity()\n",
    "\n",
    "simulator = partial(simulator_hnn, prior_dict=prior_dict, param_function=hnn_rc_param_function,\n",
    "                    network_model=net)"
   ]
  },
  {
   "cell_type": "code",
   "execution_count": 5,
   "metadata": {},
   "outputs": [
    {
     "name": "stdout",
     "output_type": "stream",
     "text": [
      "{'prox_weight': 0.0005888436294945623, 'dist_weight': 0.0007943281911173255, 'latency': 29.999998211860657}\n",
      "joblib will run over 1 jobs\n",
      "Loading custom mechanism files from /home/ntolley/anaconda3/envs/sbi/lib/python3.8/site-packages/hnn_core/mod/x86_64/.libs/libnrnmech.so\n",
      "Building the NEURON model\n",
      "[Done]\n",
      "running trial 1 on 1 cores\n",
      "Simulation time: 0.5 ms...\n",
      "Simulation time: 10.0 ms...\n",
      "Simulation time: 20.0 ms...\n",
      "Simulation time: 30.0 ms...\n",
      "Simulation time: 40.0 ms...\n",
      "Simulation time: 50.0 ms...\n",
      "Simulation time: 60.0 ms...\n",
      "Simulation time: 70.0 ms...\n",
      "Simulation time: 80.0 ms...\n",
      "Simulation time: 90.0 ms...\n",
      "Simulation time: 100.0 ms...\n",
      "Simulation time: 110.0 ms...\n",
      "Simulation time: 120.0 ms...\n",
      "Simulation time: 130.0 ms...\n",
      "Simulation time: 140.0 ms...\n",
      "Simulation time: 150.0 ms...\n",
      "Simulation time: 160.0 ms...\n",
      "Simulation time: 170.0 ms...\n",
      "Simulation time: 180.0 ms...\n",
      "Simulation time: 190.0 ms...\n",
      "Simulation time: 200.0 ms...\n",
      "Simulation time: 210.0 ms...\n",
      "Simulation time: 220.0 ms...\n",
      "Simulation time: 230.0 ms...\n",
      "Simulation time: 240.0 ms...\n",
      "Simulation time: 250.0 ms...\n",
      "Simulation time: 260.0 ms...\n",
      "Simulation time: 270.0 ms...\n",
      "Simulation time: 280.0 ms...\n",
      "Simulation time: 290.0 ms...\n",
      "Simulation time: 300.0 ms...\n",
      "Simulation time: 310.0 ms...\n",
      "Simulation time: 320.0 ms...\n",
      "Simulation time: 330.0 ms...\n",
      "Simulation time: 340.0 ms...\n",
      "{'prox_weight': 0.0005888436294945623, 'dist_weight': 0.0007943281911173255, 'latency': -29.999998211860657}\n",
      "joblib will run over 1 jobs\n"
     ]
    },
    {
     "name": "stderr",
     "output_type": "stream",
     "text": [
      "/home/ntolley/Jones_Lab/hnn_sbi_examples/notebooks/hnn_rc/../../code/hnn_rc/utils.py:227: UserWarning: To copy construct from a tensor, it is recommended to use sourceTensor.clone().detach() or sourceTensor.clone().detach().requires_grad_(True), rather than torch.tensor(sourceTensor).\n",
      "  return torch.tensor(x, dtype=torch.float32)\n"
     ]
    },
    {
     "name": "stdout",
     "output_type": "stream",
     "text": [
      "Building the NEURON model\n",
      "[Done]\n",
      "running trial 1 on 1 cores\n",
      "Simulation time: 0.5 ms...\n",
      "Simulation time: 10.0 ms...\n",
      "Simulation time: 20.0 ms...\n",
      "Simulation time: 30.0 ms...\n",
      "Simulation time: 40.0 ms...\n",
      "Simulation time: 50.0 ms...\n",
      "Simulation time: 60.0 ms...\n",
      "Simulation time: 70.0 ms...\n",
      "Simulation time: 80.0 ms...\n",
      "Simulation time: 90.0 ms...\n",
      "Simulation time: 100.0 ms...\n",
      "Simulation time: 110.0 ms...\n",
      "Simulation time: 120.0 ms...\n",
      "Simulation time: 130.0 ms...\n",
      "Simulation time: 140.0 ms...\n",
      "Simulation time: 150.0 ms...\n",
      "Simulation time: 160.0 ms...\n",
      "Simulation time: 170.0 ms...\n",
      "Simulation time: 180.0 ms...\n",
      "Simulation time: 190.0 ms...\n",
      "Simulation time: 200.0 ms...\n",
      "Simulation time: 210.0 ms...\n",
      "Simulation time: 220.0 ms...\n",
      "Simulation time: 230.0 ms...\n",
      "Simulation time: 240.0 ms...\n",
      "Simulation time: 250.0 ms...\n",
      "Simulation time: 260.0 ms...\n",
      "Simulation time: 270.0 ms...\n",
      "Simulation time: 280.0 ms...\n",
      "Simulation time: 290.0 ms...\n",
      "Simulation time: 300.0 ms...\n",
      "Simulation time: 310.0 ms...\n",
      "Simulation time: 320.0 ms...\n",
      "Simulation time: 330.0 ms...\n",
      "Simulation time: 340.0 ms...\n"
     ]
    }
   ],
   "source": [
    "# Values on [0,1] mapped to range of bounds defined in prior_dict\n",
    "theta_cond_list = [np.array([0.77, 0.9, 0.7]), np.array([0.77, 0.9, 0.3])]\n",
    "psd_list = list()\n",
    "x_cond_list = list()\n",
    "\n",
    "for theta_cond in theta_cond_list:\n",
    "    theta_dict = {param_name: param_dict['rescale_function'](theta_cond[idx], param_dict['bounds']) for \n",
    "                  idx, (param_name, param_dict) in enumerate(prior_dict.items())}\n",
    "\n",
    "    x_cond = simulator(torch.tensor(theta_cond).float()).numpy()\n",
    "    x_cond[:, :zero_samples] = np.repeat(x_cond[:, zero_samples], zero_samples).reshape(x_cond.shape[0], zero_samples)\n",
    "\n",
    "    prior = UniformPrior(parameters=list(prior_dict.keys()))\n",
    "    n_params = len(prior_dict)\n",
    "    limits = list(prior_dict.values())\n",
    "\n",
    "    x_cond_peak = get_dataset_peaks(x_cond.T)\n",
    "\n",
    "    fs = posterior_metadata['fs'] # Frequency defined for PSD\n",
    "    x_cond_psd, f = get_dataset_psd(x_cond, fs=fs)\n",
    "    \n",
    "    x_cond_list.append(x_cond)\n",
    "    psd_list.append(x_cond_psd)"
   ]
  },
  {
   "cell_type": "code",
   "execution_count": null,
   "metadata": {},
   "outputs": [],
   "source": []
  },
  {
   "cell_type": "code",
   "execution_count": 10,
   "metadata": {},
   "outputs": [
    {
     "data": {
      "text/plain": [
       "<function matplotlib.pyplot.tight_layout(*, pad=1.08, h_pad=None, w_pad=None, rect=None)>"
      ]
     },
     "execution_count": 10,
     "metadata": {},
     "output_type": "execute_result"
    },
    {
     "data": {
      "image/png": "[encoded data removed]",
      "text/plain": [
       "<Figure size 792x360 with 2 Axes>"
      ]
     },
     "metadata": {
      "needs_background": "light"
     },
     "output_type": "display_data"
    }
   ],
   "source": [
    "%matplotlib inline\n",
    "plt.figure(figsize=(11,5))\n",
    "plt.subplot(1,2,1)\n",
    "t_vec = np.linspace(0, tstop, x_cond.shape[1])\n",
    "plt.plot(t_vec, x_cond_list[0].squeeze())\n",
    "plt.plot(t_vec, x_cond_list[1].squeeze())\n",
    "plt.xlabel('Time (ms)')\n",
    "plt.ylabel('Dipole (nAm)')\n",
    "plt.xlim([120, 350])\n",
    "plt.ylim([-1.2,1.2])\n",
    "plt.title('\"Symmetric\" Dipole')\n",
    "\n",
    "plt.subplot(1,2,2)\n",
    "plt.plot(f, psd_list[0].squeeze())\n",
    "plt.plot(f, psd_list[1].squeeze())\n",
    "plt.xlabel('Frequency (Hz)')\n",
    "plt.ylabel('log power')\n",
    "plt.title('PSD')\n",
    "\n",
    "plt.tight_layout"
   ]
  },
  {
   "cell_type": "markdown",
   "metadata": {},
   "source": [
    "### Load trained posterior objects"
   ]
  },
  {
   "cell_type": "code",
   "execution_count": 35,
   "metadata": {},
   "outputs": [
    {
     "name": "stdout",
     "output_type": "stream",
     "text": [
      "['pca30', 'peak', 'psd', 'psd_peak']\n"
     ]
    }
   ],
   "source": [
    "prior = UniformPrior(parameters=list(prior_dict.keys()))\n",
    "n_params = len(prior_dict)\n",
    "limits = list(prior_dict.values())\n",
    "\n",
    "# x_orig stores full waveform to be used for embedding\n",
    "x_orig, theta_orig = np.load(f'{data_path}/sbi_sims/x_sbi.npy'), np.load(f'{data_path}/sbi_sims/theta_sbi.npy')\n",
    "x_orig[:, :zero_samples] = np.zeros(x_orig[:, :zero_samples].shape)\n",
    "\n",
    "x_orig_peak = get_dataset_peaks(x_orig)\n",
    "x_cond_peak = get_dataset_peaks(x_cond.T)\n",
    "\n",
    "fs = posterior_metadata['fs'] # Frequency defined for PSD\n",
    "x_orig_psd, f = get_dataset_psd(x_orig, fs=fs)\n",
    "x_cond_psd, f = get_dataset_psd(x_cond, fs=fs)\n",
    "\n",
    "load_info = {name: {'x_train': posterior_dict['input_dict']['feature_func'](x_orig), \n",
    "                    'x_cond': posterior_dict['input_dict']['feature_func'](x_cond)}\n",
    "             for name, posterior_dict in posterior_state_dicts.items()}\n",
    "\n",
    "posterior_names = list(posterior_state_dicts.keys())\n",
    "print(posterior_names)"
   ]
  },
  {
   "cell_type": "code",
   "execution_count": 44,
   "metadata": {},
   "outputs": [
    {
     "data": {
      "text/plain": [
       "(1, 234)"
      ]
     },
     "execution_count": 44,
     "metadata": {},
     "output_type": "execute_result"
    }
   ],
   "source": [
    "x_cond.shape"
   ]
  },
  {
   "cell_type": "code",
   "execution_count": null,
   "metadata": {},
   "outputs": [],
   "source": []
  },
  {
   "cell_type": "code",
   "execution_count": 40,
   "metadata": {},
   "outputs": [
    {
     "name": "stdout",
     "output_type": "stream",
     "text": [
      "Training neural network. Epochs trained:  3\r"
     ]
    }
   ],
   "source": [
    "name_idx = 2 # Pick posterior to load\n",
    "\n",
    "input_type = posterior_names[name_idx]\n",
    "posterior_dict = posterior_state_dicts[input_type]\n",
    "state_dict = posterior_dict['posterior']\n",
    "n_params = posterior_dict['n_params']\n",
    "n_sims = posterior_dict['n_sims']\n",
    "input_dict = posterior_dict['input_dict']\n",
    "\n",
    "embedding_net =  input_dict['embedding_func'](**input_dict['embedding_dict'])\n",
    "\n",
    "posterior = load_posterior(state_dict=state_dict,\n",
    "                           x_infer=torch.tensor(load_info[input_type]['x_train'][:10,:]).float(),\n",
    "                           theta_infer=torch.tensor(theta_orig[:10,:]), prior=prior, embedding_net=embedding_net)"
   ]
  },
  {
   "cell_type": "markdown",
   "metadata": {},
   "source": [
    "### Draw samples and plot"
   ]
  },
  {
   "cell_type": "code",
   "execution_count": 41,
   "metadata": {},
   "outputs": [
    {
     "name": "stdout",
     "output_type": "stream",
     "text": [
      "Conditioning Feature: psd\n"
     ]
    },
    {
     "data": {
      "application/vnd.jupyter.widget-view+json": {
       "model_id": "5b6aabc536974386ab0b09bfe5c8357d",
       "version_major": 2,
       "version_minor": 0
      },
      "text/plain": [
       "Drawing 1000 posterior samples:   0%|          | 0/1000 [00:00<?, ?it/s]"
      ]
     },
     "metadata": {},
     "output_type": "display_data"
    },
    {
     "data": {
      "image/png": "[encoded data removed]",
      "text/plain": [
       "<Figure size 540x540 with 12 Axes>"
      ]
     },
     "metadata": {
      "needs_background": "light"
     },
     "output_type": "display_data"
    }
   ],
   "source": [
    "print(f'Conditioning Feature: {posterior_names[name_idx]}')\n",
    "num_samples = 1000\n",
    "\n",
    "all_labels = ['Proximal (log g)', 'Distal (log g)', 'Latency (ms)']\n",
    "all_bounds = [param_dict['bounds'] for param_dict in prior_dict.values()]\n",
    "\n",
    "samples = posterior.sample((num_samples,), x=torch.tensor(load_info[input_type]['x_cond'].squeeze()))\n",
    "samples_transformed = linear_scale_array(samples.numpy(), all_bounds)\n",
    "\n",
    "theta_cond_transformed = linear_scale_array(theta_cond.reshape(1,-1), all_bounds)[0]\n",
    "\n",
    "df_dict = {name: samples_transformed[:, idx] for idx, name in enumerate(all_labels)}\n",
    "\n",
    "\n",
    "df = pd.DataFrame(df_dict)\n",
    "\n",
    "g = sns.PairGrid(df,  diag_sharey=False)\n",
    "g.map_lower(sns.scatterplot)\n",
    "g.map_upper(sns.kdeplot, fill=True)\n",
    "g.map_diag(sns.kdeplot, fill=True)\n",
    "\n",
    "for idx in range(3):\n",
    "    g.axes[idx, idx].axvline(theta_cond_transformed[idx], color='r', linewidth=4) \n",
    "    g.axes[idx, idx].set_xlim(all_bounds[idx])\n",
    "    g.axes[idx, idx].set_ylim(all_bounds[idx])\n",
    "\n",
    "for idx1 in range(3):\n",
    "    for idx2 in range(3):\n",
    "        g.axes[idx1, idx2].yaxis.set_major_formatter(FormatStrFormatter('%.1f'))\n",
    "        g.axes[idx1, idx2].xaxis.set_major_formatter(FormatStrFormatter('%.1f'))\n",
    "plt.tight_layout()"
   ]
  },
  {
   "cell_type": "code",
   "execution_count": null,
   "metadata": {},
   "outputs": [],
   "source": []
  },
  {
   "cell_type": "code",
   "execution_count": null,
   "metadata": {},
   "outputs": [],
   "source": []
  },
  {
   "cell_type": "code",
   "execution_count": null,
   "metadata": {},
   "outputs": [],
   "source": []
  },
  {
   "cell_type": "code",
   "execution_count": null,
   "metadata": {},
   "outputs": [],
   "source": []
  },
  {
   "cell_type": "code",
   "execution_count": null,
   "metadata": {},
   "outputs": [],
   "source": []
  },
  {
   "cell_type": "code",
   "execution_count": null,
   "metadata": {},
   "outputs": [],
   "source": []
  },
  {
   "cell_type": "code",
   "execution_count": null,
   "metadata": {},
   "outputs": [],
   "source": []
  },
  {
   "cell_type": "code",
   "execution_count": null,
   "metadata": {},
   "outputs": [],
   "source": []
  },
  {
   "cell_type": "code",
   "execution_count": null,
   "metadata": {},
   "outputs": [],
   "source": []
  },
  {
   "cell_type": "code",
   "execution_count": null,
   "metadata": {},
   "outputs": [],
   "source": []
  },
  {
   "cell_type": "code",
   "execution_count": null,
   "metadata": {},
   "outputs": [],
   "source": []
  }
 ],
 "metadata": {
  "kernelspec": {
   "display_name": "Python (sbi)",
   "language": "python",
   "name": "sbi"
  },
  "language_info": {
   "codemirror_mode": {
    "name": "ipython",
    "version": 3
   },
   "file_extension": ".py",
   "mimetype": "text/x-python",
   "name": "python",
   "nbconvert_exporter": "python",
   "pygments_lexer": "ipython3",
   "version": "3.8.11"
  }
 },
 "nbformat": 4,
 "nbformat_minor": 4
}
