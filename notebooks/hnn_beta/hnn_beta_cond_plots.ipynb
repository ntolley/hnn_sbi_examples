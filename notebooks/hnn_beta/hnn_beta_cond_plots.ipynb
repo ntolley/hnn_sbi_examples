{
 "cells": [
  {
   "cell_type": "code",
   "execution_count": 1,
   "metadata": {},
   "outputs": [
    {
     "name": "stderr",
     "output_type": "stream",
     "text": [
      "/home/ntolley/anaconda3/envs/sbi/lib/python3.8/site-packages/dask_jobqueue/core.py:19: FutureWarning: format_bytes is deprecated and will be removed in a future release. Please use dask.utils.format_bytes instead.\n",
      "  from distributed.utils import format_bytes, parse_bytes, tmpfile\n",
      "/home/ntolley/anaconda3/envs/sbi/lib/python3.8/site-packages/dask_jobqueue/core.py:19: FutureWarning: parse_bytes is deprecated and will be removed in a future release. Please use dask.utils.parse_bytes instead.\n",
      "  from distributed.utils import format_bytes, parse_bytes, tmpfile\n",
      "/home/ntolley/anaconda3/envs/sbi/lib/python3.8/site-packages/dask_jobqueue/htcondor.py:6: FutureWarning: parse_bytes is deprecated and will be removed in a future release. Please use dask.utils.parse_bytes instead.\n",
      "  from distributed.utils import parse_bytes\n"
     ]
    }
   ],
   "source": [
    "import sys\n",
    "sys.path.append('../../code')\n",
    "import torch\n",
    "import numpy as np\n",
    "import matplotlib.pyplot as plt\n",
    "from matplotlib.ticker import FormatStrFormatter\n",
    "import seaborn as sns\n",
    "from sbi import inference as sbi_inference\n",
    "from utils import (linear_scale_array, UniformPrior,\n",
    "                   get_dataset_psd, get_dataset_peaks, load_posterior, simulator_hnn,\n",
    "                   get_parameter_recovery, get_posterior_predictive_check, hnn_beta_param_function)\n",
    "from hnn_core import jones_2009_model\n",
    "from functools import partial\n",
    "import dill\n",
    "from sbi import utils as sbi_utils\n",
    "import pandas as pd\n",
    "from sklearn.decomposition import PCA\n",
    "rng_seed = 123\n",
    "\n",
    "scale_factor = 60_000\n",
    "\n",
    "sns.set()\n",
    "sns.set_style(\"white\")\n",
    "\n",
    "device = 'cpu'\n",
    "\n",
    "sim_type = 'hnn_beta'\n",
    "data_path = f'../../data/{sim_type}'\n",
    "\n",
    "with open(f'{data_path}/posteriors/posterior_dicts.pkl', 'rb') as output_file:\n",
    "    posterior_state_dicts = dill.load(output_file)\n",
    "with open(f'{data_path}/sbi_sims/prior_dict.pkl', 'rb') as output_file:\n",
    "    prior_dict = dill.load(output_file)\n",
    "with open(f'{data_path}/sbi_sims/sim_metadata.pkl', 'rb') as output_file:\n",
    "    sim_metadata = dill.load(output_file)\n",
    "with open(f'{data_path}/posteriors/posterior_metadata.pkl', 'rb') as output_file:\n",
    "    posterior_metadata = dill.load(output_file)\n",
    "    \n",
    "dt = sim_metadata['dt'] # Sampling interval used for simulation\n",
    "tstop = sim_metadata['tstop'] # Sampling interval used for simulation\n",
    "zero_samples = posterior_metadata['zero_samples'] \n",
    "\n",
    "net = jones_2009_model()\n",
    "\n",
    "simulator = partial(simulator_hnn, prior_dict=prior_dict, param_function=hnn_beta_param_function,\n",
    "                    network_model=net, tstop=tstop, return_objects=True)"
   ]
  },
  {
   "cell_type": "code",
   "execution_count": 14,
   "metadata": {},
   "outputs": [
    {
     "ename": "SyntaxError",
     "evalue": "keyword argument repeated (utils.py, line 112)",
     "output_type": "error",
     "traceback": [
      "Traceback \u001b[0;36m(most recent call last)\u001b[0m:\n",
      "  File \u001b[1;32m\"/home/ntolley/anaconda3/envs/sbi/lib/python3.8/site-packages/IPython/core/interactiveshell.py\"\u001b[0m, line \u001b[1;32m3441\u001b[0m, in \u001b[1;35mrun_code\u001b[0m\n    exec(code_obj, self.user_global_ns, self.user_ns)\n",
      "\u001b[0;36m  File \u001b[0;32m\"<ipython-input-14-5e94a645812a>\"\u001b[0;36m, line \u001b[0;32m4\u001b[0;36m, in \u001b[0;35m<module>\u001b[0;36m\u001b[0m\n\u001b[0;31m    from utils import UniformPrior, linear_scale_forward\u001b[0m\n",
      "\u001b[0;36m  File \u001b[0;32m\"/home/ntolley/Jones_Lab/hnn_sbi_examples/notebooks/hnn_beta/../../code/utils.py\"\u001b[0;36m, line \u001b[0;32m112\u001b[0m\n\u001b[0;31m    x_noise = np.random.normal(loc=0.0, scale=x_noise_amp, scale=x_orig.shape)\u001b[0m\n\u001b[0m                                                           ^\u001b[0m\n\u001b[0;31mSyntaxError\u001b[0m\u001b[0;31m:\u001b[0m keyword argument repeated\n"
     ]
    }
   ],
   "source": [
    "import sys\n",
    "sys.path.append('../../code')\n",
    "import numpy as np\n",
    "from utils import UniformPrior, linear_scale_forward\n",
    "rng_seed = 123\n",
    "rng = np.random.default_rng(rng_seed)"
   ]
  },
  {
   "cell_type": "code",
   "execution_count": 12,
   "metadata": {},
   "outputs": [
    {
     "ename": "NameError",
     "evalue": "name 'linear_scale_forward' is not defined",
     "output_type": "error",
     "traceback": [
      "\u001b[0;31m---------------------------------------------------------------------------\u001b[0m",
      "\u001b[0;31mNameError\u001b[0m                                 Traceback (most recent call last)",
      "\u001b[0;32m<ipython-input-12-f95a585fd650>\u001b[0m in \u001b[0;36m<module>\u001b[0;34m\u001b[0m\n\u001b[0;32m----> 1\u001b[0;31m prior_dict = {'amp1': {'bounds': (0, 1), 'scale_func': linear_scale_forward},\n\u001b[0m\u001b[1;32m      2\u001b[0m               \u001b[0;34m'amp2'\u001b[0m\u001b[0;34m:\u001b[0m \u001b[0;34m{\u001b[0m\u001b[0;34m'bounds'\u001b[0m\u001b[0;34m:\u001b[0m \u001b[0;34m(\u001b[0m\u001b[0;36m0\u001b[0m\u001b[0;34m,\u001b[0m \u001b[0;36m1\u001b[0m\u001b[0;34m)\u001b[0m\u001b[0;34m,\u001b[0m \u001b[0;34m'scale_func'\u001b[0m\u001b[0;34m:\u001b[0m \u001b[0mlinear_scale_forward\u001b[0m\u001b[0;34m}\u001b[0m\u001b[0;34m,\u001b[0m\u001b[0;34m\u001b[0m\u001b[0;34m\u001b[0m\u001b[0m\n\u001b[1;32m      3\u001b[0m               'latency': {'bounds': (-75, 75), 'scale_func': linear_scale_forward}}\n\u001b[1;32m      4\u001b[0m \u001b[0;34m\u001b[0m\u001b[0m\n\u001b[1;32m      5\u001b[0m \u001b[0;31m# Create uniform prior and sample\u001b[0m\u001b[0;34m\u001b[0m\u001b[0;34m\u001b[0m\u001b[0;34m\u001b[0m\u001b[0m\n",
      "\u001b[0;31mNameError\u001b[0m: name 'linear_scale_forward' is not defined"
     ]
    }
   ],
   "source": [
    "prior_dict = {'amp1': {'bounds': (0, 1), 'scale_func': linear_scale_forward},\n",
    "              'amp2': {'bounds': (0, 1), 'scale_func': linear_scale_forward}, \n",
    "              'latency': {'bounds': (-75, 75), 'scale_func': linear_scale_forward}}\n",
    "\n",
    "# Create uniform prior and sample\n",
    "prior = UniformPrior(parameters=list(prior_dict.keys()))"
   ]
  },
  {
   "cell_type": "code",
   "execution_count": null,
   "metadata": {},
   "outputs": [],
   "source": []
  },
  {
   "cell_type": "code",
   "execution_count": null,
   "metadata": {},
   "outputs": [],
   "source": []
  },
  {
   "cell_type": "code",
   "execution_count": 2,
   "metadata": {},
   "outputs": [
    {
     "name": "stdout",
     "output_type": "stream",
     "text": [
      "{'dist_var': 1.5000000596046448, 'prox_var': 30.0, 'dist_exc': 8.912509136698405e-06, 'prox_exc': 8.912509136698405e-06}\n",
      "joblib will run over 1 jobs\n",
      "Loading custom mechanism files from /home/ntolley/anaconda3/envs/sbi/lib/python3.8/site-packages/hnn_core/mod/x86_64/.libs/libnrnmech.so\n",
      "Building the NEURON model\n",
      "[Done]\n",
      "running trial 1 on 1 cores\n",
      "Simulation time: 0.5 ms...\n",
      "Simulation time: 10.0 ms...\n",
      "Simulation time: 20.0 ms...\n",
      "Simulation time: 30.0 ms...\n",
      "Simulation time: 40.0 ms...\n",
      "Simulation time: 50.0 ms...\n",
      "Simulation time: 60.0 ms...\n",
      "Simulation time: 70.0 ms...\n",
      "Simulation time: 80.0 ms...\n",
      "Simulation time: 90.0 ms...\n",
      "Simulation time: 100.0 ms...\n",
      "Simulation time: 110.0 ms...\n",
      "Simulation time: 120.0 ms...\n",
      "Simulation time: 130.0 ms...\n",
      "Simulation time: 140.0 ms...\n",
      "Simulation time: 150.0 ms...\n",
      "Simulation time: 160.0 ms...\n",
      "Simulation time: 170.0 ms...\n",
      "Simulation time: 180.0 ms...\n",
      "Simulation time: 190.0 ms...\n",
      "Simulation time: 200.0 ms...\n",
      "Simulation time: 210.0 ms...\n",
      "Simulation time: 220.0 ms...\n",
      "Simulation time: 230.0 ms...\n",
      "Simulation time: 240.0 ms...\n",
      "Simulation time: 250.0 ms...\n",
      "Simulation time: 260.0 ms...\n",
      "Simulation time: 270.0 ms...\n",
      "Simulation time: 280.0 ms...\n",
      "Simulation time: 290.0 ms...\n",
      "Simulation time: 300.0 ms...\n",
      "Simulation time: 310.0 ms...\n",
      "Simulation time: 320.0 ms...\n",
      "Simulation time: 330.0 ms...\n",
      "Simulation time: 340.0 ms...\n",
      "Simulation time: 350.0 ms...\n",
      "Simulation time: 360.0 ms...\n",
      "Simulation time: 370.0 ms...\n",
      "Simulation time: 380.0 ms...\n",
      "Simulation time: 390.0 ms...\n",
      "Simulation time: 400.0 ms...\n",
      "Simulation time: 410.0 ms...\n",
      "Simulation time: 420.0 ms...\n",
      "Simulation time: 430.0 ms...\n",
      "Simulation time: 440.0 ms...\n",
      "Simulation time: 450.0 ms...\n",
      "Simulation time: 460.0 ms...\n",
      "Simulation time: 470.0 ms...\n",
      "Simulation time: 480.0 ms...\n",
      "Simulation time: 490.0 ms...\n",
      "{'dist_var': 7.5, 'prox_var': 30.0, 'dist_exc': 8.912509136698405e-06, 'prox_exc': 8.912509136698405e-06}\n",
      "joblib will run over 1 jobs\n",
      "Building the NEURON model\n",
      "[Done]\n",
      "running trial 1 on 1 cores\n",
      "Simulation time: 0.5 ms...\n",
      "Simulation time: 10.0 ms...\n",
      "Simulation time: 20.0 ms...\n",
      "Simulation time: 30.0 ms...\n",
      "Simulation time: 40.0 ms...\n",
      "Simulation time: 50.0 ms...\n",
      "Simulation time: 60.0 ms...\n",
      "Simulation time: 70.0 ms...\n",
      "Simulation time: 80.0 ms...\n",
      "Simulation time: 90.0 ms...\n",
      "Simulation time: 100.0 ms...\n",
      "Simulation time: 110.0 ms...\n",
      "Simulation time: 120.0 ms...\n",
      "Simulation time: 130.0 ms...\n",
      "Simulation time: 140.0 ms...\n",
      "Simulation time: 150.0 ms...\n",
      "Simulation time: 160.0 ms...\n",
      "Simulation time: 170.0 ms...\n",
      "Simulation time: 180.0 ms...\n",
      "Simulation time: 190.0 ms...\n",
      "Simulation time: 200.0 ms...\n",
      "Simulation time: 210.0 ms...\n",
      "Simulation time: 220.0 ms...\n",
      "Simulation time: 230.0 ms...\n",
      "Simulation time: 240.0 ms...\n",
      "Simulation time: 250.0 ms...\n",
      "Simulation time: 260.0 ms...\n",
      "Simulation time: 270.0 ms...\n",
      "Simulation time: 280.0 ms...\n",
      "Simulation time: 290.0 ms...\n",
      "Simulation time: 300.0 ms...\n",
      "Simulation time: 310.0 ms...\n",
      "Simulation time: 320.0 ms...\n",
      "Simulation time: 330.0 ms...\n",
      "Simulation time: 340.0 ms...\n",
      "Simulation time: 350.0 ms...\n",
      "Simulation time: 360.0 ms...\n",
      "Simulation time: 370.0 ms...\n",
      "Simulation time: 380.0 ms...\n",
      "Simulation time: 390.0 ms...\n",
      "Simulation time: 400.0 ms...\n",
      "Simulation time: 410.0 ms...\n",
      "Simulation time: 420.0 ms...\n",
      "Simulation time: 430.0 ms...\n",
      "Simulation time: 440.0 ms...\n",
      "Simulation time: 450.0 ms...\n",
      "Simulation time: 460.0 ms...\n",
      "Simulation time: 470.0 ms...\n",
      "Simulation time: 480.0 ms...\n",
      "Simulation time: 490.0 ms...\n"
     ]
    }
   ],
   "source": [
    "# Values on [0,1] mapped to range of bounds defined in prior_dict\n",
    "theta_cond_list = [np.array([0.15, 0.75, 0.95, 0.95]), np.array([0.75, 0.75, 0.95, 0.95])]\n",
    "\n",
    "x_cond_list, theta_dict_list, net_list = list(), list(), list()\n",
    "prox_times_list, dist_times_list = list(), list()\n",
    "for theta_cond in theta_cond_list:\n",
    "    theta_dict = {param_name: param_dict['rescale_function'](theta_cond[idx], param_dict['bounds']) for \n",
    "                  idx, (param_name, param_dict) in enumerate(prior_dict.items())}\n",
    "\n",
    "    net, dpl = simulator(torch.tensor(theta_cond).float())[0]\n",
    "    x_cond = dpl[0].copy().smooth(20).data['agg']\n",
    "        \n",
    "    theta_dict_list.append(theta_dict)\n",
    "    x_cond_list.append(x_cond)\n",
    "    net_list.append(net)\n",
    "    \n",
    "    net_idx = 0\n",
    "    spike_times = np.array(net.cell_response.spike_times)\n",
    "    spike_types = np.array(net.cell_response.spike_types)\n",
    "    prox_times = spike_times[spike_types == 'beta_prox']\n",
    "    dist_times = spike_times[spike_types == 'beta_dist']\n",
    "    \n",
    "    prox_times_list.append(prox_times)\n",
    "    dist_times_list.append(dist_times)\n",
    "\n"
   ]
  },
  {
   "cell_type": "code",
   "execution_count": 4,
   "metadata": {},
   "outputs": [
    {
     "name": "stdout",
     "output_type": "stream",
     "text": [
      "[0.75 0.75 0.95 0.95] [0.15 0.75 0.95 0.95]\n"
     ]
    }
   ],
   "source": [
    "small_idx = 7799\n",
    "large_idx = 1799\n",
    "n_val = 10\n",
    "input_type = 'pca4'\n",
    "x_val, theta_grid = np.load(f'{data_path}/sbi_sims/x_{input_type}_validation.npy'), np.load(f'{data_path}/sbi_sims/theta_grid.npy')\n",
    "\n",
    "print(theta_grid[small_idx,:], theta_grid[large_idx,:])\n",
    "\n",
    "small_start, small_stop = small_idx * n_val, small_idx * n_val + n_val\n",
    "large_start, large_stop = large_idx * n_val, large_idx * n_val + n_val\n",
    "\n",
    "x_small_val = x_val[small_start:small_stop, :]\n",
    "x_large_val = x_val[large_start:large_stop, :]"
   ]
  },
  {
   "cell_type": "code",
   "execution_count": 11,
   "metadata": {},
   "outputs": [
    {
     "name": "stderr",
     "output_type": "stream",
     "text": [
      "<ipython-input-11-200f06be8361>:67: UserWarning: FixedFormatter should only be used together with FixedLocator\n",
      "  axes[0].set_xticklabels((axes[0].get_xticks() - axes[0].get_xticks()[0]).astype(int))\n"
     ]
    },
    {
     "data": {
      "image/png": "[encoded data removed]",
      "text/plain": [
       "<Figure size 360x360 with 8 Axes>"
      ]
     },
     "metadata": {
      "needs_background": "light"
     },
     "output_type": "display_data"
    }
   ],
   "source": [
    "%matplotlib inline\n",
    "bins = np.linspace(0,tstop,100)\n",
    "\n",
    "labelsize = 16\n",
    "titlesize=22\n",
    "\n",
    "offset_samples = 0\n",
    "\n",
    "waveform_ylim = [-18, 23]\n",
    "hist_ylim = [0, 20]\n",
    "# Plot conditioning features    \n",
    "t_vec = np.linspace(0, tstop, x_cond_list[0].squeeze().shape[0])\n",
    "\n",
    "time_lim = [145, 270]\n",
    "\n",
    "fig, axes = plt.subplots(2,1,figsize=(5,5), constrained_layout=True, sharex=True)\n",
    "\n",
    "# Top panel\n",
    "axes[0].set_ylabel('Dipole (nAm)', fontsize=labelsize)\n",
    "axes[0].set_ylim(waveform_ylim)\n",
    "ax_top_prox = axes[0].twinx()\n",
    "ax_top_prox.set_ylim(hist_ylim)\n",
    "ax_top_dist = axes[0].twinx()\n",
    "ax_top_dist.set_ylim(hist_ylim)\n",
    "ax_top_waveform = axes[0].twinx()\n",
    "ax_top_waveform.set_ylim(waveform_ylim)\n",
    "ax_top_prox.hist(prox_times_list[0], color='C3', label='Proximal', bins=bins)\n",
    "ax_top_dist.hist(dist_times_list[0], color='C2', label='Distal', bins=bins)\n",
    "ax_top_dist.set_ylim(hist_ylim[-1], hist_ylim[0])\n",
    "\n",
    "ax_top_prox.set_ylabel('Spike Counts', fontsize=labelsize)\n",
    "ax_top_dist.set_yticklabels('')\n",
    "ax_top_waveform.set_yticklabels('')\n",
    "ax_top_dist.set_yticks([])\n",
    "ax_top_waveform.set_yticks([])\n",
    "\n",
    "_ = ax_top_waveform.plot(t_vec, x_large_val.T * scale_factor, linewidth=0.5, color='k', alpha=1.0)\n",
    "\n",
    "ax_top_waveform.plot(t_vec, x_cond_list[0].squeeze() * scale_factor, linewidth=4, color='C0')\n",
    "#axes[0].set_title('Condition 1', fontsize=titlesize)\n",
    "\n",
    "# Bottom Panel\n",
    "axes[1].set_ylabel('Dipole (nAm)', fontsize=labelsize)\n",
    "axes[1].set_ylim(waveform_ylim)\n",
    "ax_bottom_prox = axes[1].twinx()\n",
    "ax_bottom_prox.set_ylim(hist_ylim)\n",
    "ax_bottom_dist = axes[1].twinx()\n",
    "ax_bottom_dist.set_ylim(hist_ylim)\n",
    "ax_bottom_waveform = axes[1].twinx()\n",
    "ax_bottom_waveform.set_ylim(waveform_ylim)\n",
    "ax_bottom_prox.hist(prox_times_list[1], color='C3', label='Proximal', bins=bins)\n",
    "ax_bottom_dist.hist(dist_times_list[1], color='C2', label='Distal', bins=bins)\n",
    "ax_bottom_dist.set_ylim(hist_ylim[-1], hist_ylim[0])\n",
    "\n",
    "ax_bottom_prox.set_ylabel('Spike Counts', fontsize=labelsize)\n",
    "ax_bottom_dist.set_yticklabels('')\n",
    "ax_bottom_waveform.set_yticklabels('')\n",
    "ax_bottom_dist.set_yticks([])\n",
    "ax_bottom_waveform.set_yticks([])\n",
    "\n",
    "_ = ax_bottom_waveform.plot(t_vec, x_small_val.T * scale_factor, linewidth=0.5, color='k', alpha=1.0)\n",
    "ax_bottom_waveform.plot(t_vec, x_cond_list[1].squeeze() * scale_factor, linewidth=4, color='C1')\n",
    "\n",
    "axes[1].set_xlabel('Time (ms)', fontsize=labelsize)\n",
    "\n",
    "axes[0].set_xlim(time_lim)\n",
    "axes[0].set_xticklabels((axes[0].get_xticks() - axes[0].get_xticks()[0]).astype(int))\n",
    "\n",
    "\n",
    "plt.savefig('hnn_beta_cond_inputs.svg')"
   ]
  },
  {
   "cell_type": "code",
   "execution_count": null,
   "metadata": {},
   "outputs": [],
   "source": []
  },
  {
   "cell_type": "code",
   "execution_count": null,
   "metadata": {},
   "outputs": [],
   "source": []
  },
  {
   "cell_type": "code",
   "execution_count": null,
   "metadata": {},
   "outputs": [],
   "source": []
  },
  {
   "cell_type": "code",
   "execution_count": null,
   "metadata": {},
   "outputs": [],
   "source": []
  },
  {
   "cell_type": "code",
   "execution_count": null,
   "metadata": {},
   "outputs": [],
   "source": []
  }
 ],
 "metadata": {
  "kernelspec": {
   "display_name": "Python (sbi)",
   "language": "python",
   "name": "sbi"
  },
  "language_info": {
   "codemirror_mode": {
    "name": "ipython",
    "version": 3
   },
   "file_extension": ".py",
   "mimetype": "text/x-python",
   "name": "python",
   "nbconvert_exporter": "python",
   "pygments_lexer": "ipython3",
   "version": "3.8.11"
  }
 },
 "nbformat": 4,
 "nbformat_minor": 4
}
