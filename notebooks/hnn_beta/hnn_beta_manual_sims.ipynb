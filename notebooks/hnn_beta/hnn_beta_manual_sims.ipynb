{
 "cells": [
  {
   "cell_type": "code",
   "execution_count": 31,
   "metadata": {},
   "outputs": [],
   "source": [
    "import sys\n",
    "sys.path.append('../../code')\n",
    "import torch\n",
    "import numpy as np\n",
    "import matplotlib.pyplot as plt\n",
    "from matplotlib.ticker import FormatStrFormatter\n",
    "import seaborn as sns\n",
    "from sbi import inference as sbi_inference\n",
    "from utils import (linear_scale_forward, UniformPrior,\n",
    "                   get_dataset_psd, get_dataset_peaks, load_posterior, simulator_hnn)\n",
    "from hnn_core import jones_2009_model\n",
    "from functools import partial\n",
    "import dill\n",
    "from sbi import utils as sbi_utils\n",
    "import pandas as pd\n",
    "from sklearn.decomposition import PCA\n",
    "from scipy.io import loadmat\n",
    "from scipy.interpolate import CubicSpline\n",
    "rng_seed = 123\n",
    "rng = np.random.default_rng(123)\n",
    "\n",
    "sns.set()\n",
    "sns.set_style(\"white\")\n",
    "\n",
    "device = 'cpu'\n",
    "data_path = f'../../data/hnn_beta'\n"
   ]
  },
  {
   "cell_type": "code",
   "execution_count": 32,
   "metadata": {},
   "outputs": [],
   "source": [
    "def get_mean_beta_event(subj_waveforms, lower, upper, zero_idx, real_times, sim_times):\n",
    "    event_mask = np.logical_and(waveforms[0][:,zero_idx] > lower, waveforms[0][:,zero_idx] < upper)\n",
    "    print(f'{np.sum(event_mask)} events averaged')\n",
    "    mean_event = np.mean(waveforms[0][event_mask, :], axis=0)\n",
    "    \n",
    "    cs = CubicSpline(real_times, mean_event)\n",
    "    interp_event = cs(sim_times)\n",
    "    \n",
    "    return interp_event.reshape(1, -1)"
   ]
  },
  {
   "cell_type": "code",
   "execution_count": 33,
   "metadata": {},
   "outputs": [],
   "source": [
    "def hnn_beta_param_function(net, theta_dict, rng=rng):\n",
    "    beta_start = 200.0\n",
    "    prox_seed = rng.integers(1000)\n",
    "    dist_seed = rng.integers(1000)\n",
    "\n",
    "    # Distal Drive\n",
    "    weights_ampa_d1 = {'L2_basket': 0.8e-6, 'L2_pyramidal': 0.4e-6,\n",
    "                       'L5_pyramidal': 0.00004}\n",
    "    syn_delays_d1 = {'L2_basket': 0.0, 'L2_pyramidal': 0.0,\n",
    "                     'L5_pyramidal': 0.0}\n",
    "    net.add_bursty_drive(\n",
    "        'beta_dist', tstart=beta_start, tstart_std=0., tstop=beta_start + 50.,\n",
    "        burst_rate=1., burst_std=theta_dict['dist_var'], numspikes=2, spike_isi=10,\n",
    "        n_drive_cells=10, location='distal', weights_ampa=weights_ampa_d1,\n",
    "        synaptic_delays=syn_delays_d1, event_seed=dist_seed)\n",
    "\n",
    "    # Proximal Drive\n",
    "    weights_ampa_p1 = {'L2_basket': 0.4e-6, 'L2_pyramidal': 0.2e-6,\n",
    "                       'L5_basket': 0.4e-6, 'L5_pyramidal': 0.00002}\n",
    "    syn_delays_p1 = {'L2_basket': 0.0, 'L2_pyramidal': 0.0,\n",
    "                     'L5_basket': 0.0, 'L5_pyramidal': 0.0}\n",
    "\n",
    "    net.add_bursty_drive(\n",
    "        'beta_prox', tstart=beta_start, tstart_std=0., tstop=beta_start + 50.,\n",
    "        burst_rate=1., burst_std=theta_dict['prox_var'], numspikes=2, spike_isi=10,\n",
    "        n_drive_cells=10, location='proximal', weights_ampa=weights_ampa_p1,\n",
    "        synaptic_delays=syn_delays_p1, event_seed=prox_seed)"
   ]
  },
  {
   "cell_type": "code",
   "execution_count": 34,
   "metadata": {},
   "outputs": [],
   "source": [
    "data_mat = loadmat(f'{data_path}/beta_waveforms_sherman_shin_dataset.mat')\n",
    "time_offset = 208.0 # Time where Beta Event peak occurs in simulations\n",
    "\n",
    "Fs = float(data_mat['Fs'])\n",
    "dt = 1/Fs\n",
    "waveforms = data_mat['event_waveforms'].squeeze().tolist()\n",
    "real_times = data_mat['times'].squeeze() * 1e3\n",
    "zero_idx = np.where(real_times==0.0)[0][0]\n",
    "\n",
    "real_times = real_times + time_offset"
   ]
  },
  {
   "cell_type": "code",
   "execution_count": 36,
   "metadata": {},
   "outputs": [
    {
     "name": "stdout",
     "output_type": "stream",
     "text": [
      "71 events averaged\n",
      "40 events averaged\n"
     ]
    }
   ],
   "source": []
  },
  {
   "cell_type": "code",
   "execution_count": null,
   "metadata": {},
   "outputs": [],
   "source": []
  },
  {
   "cell_type": "code",
   "execution_count": null,
   "metadata": {},
   "outputs": [],
   "source": []
  },
  {
   "cell_type": "markdown",
   "metadata": {},
   "source": [
    "### Generate conditioning waveform"
   ]
  },
  {
   "cell_type": "code",
   "execution_count": 42,
   "metadata": {},
   "outputs": [],
   "source": [
    "# Parameter bounds\n",
    "prior_dict = {'dist_var': {'bounds': (0, 20), 'rescale_function': linear_scale_forward},\n",
    "              'prox_var': {'bounds': (0, 40), 'rescale_function': linear_scale_forward}}\n",
    "\n",
    "net = jones_2009_model()\n",
    "simulator = partial(simulator_hnn, prior_dict=prior_dict, param_function=hnn_beta_param_function,\n",
    "                    network_model=net, tstop=500)\n"
   ]
  },
  {
   "cell_type": "code",
   "execution_count": 47,
   "metadata": {},
   "outputs": [
    {
     "name": "stdout",
     "output_type": "stream",
     "text": [
      "{'dist_var': 2.0000000298023224, 'prox_var': 4.000000059604645}\n",
      "joblib will run over 1 jobs\n",
      "Building the NEURON model\n",
      "[Done]\n",
      "running trial 1 on 1 cores\n",
      "Simulation time: 0.5 ms...\n",
      "Simulation time: 10.0 ms...\n",
      "Simulation time: 20.0 ms...\n",
      "Simulation time: 30.0 ms...\n",
      "Simulation time: 40.0 ms...\n",
      "Simulation time: 50.0 ms...\n",
      "Simulation time: 60.0 ms...\n",
      "Simulation time: 70.0 ms...\n",
      "Simulation time: 80.0 ms...\n",
      "Simulation time: 90.0 ms...\n",
      "Simulation time: 100.0 ms...\n",
      "Simulation time: 110.0 ms...\n",
      "Simulation time: 120.0 ms...\n",
      "Simulation time: 130.0 ms...\n",
      "Simulation time: 140.0 ms...\n",
      "Simulation time: 150.0 ms...\n",
      "Simulation time: 160.0 ms...\n",
      "Simulation time: 170.0 ms...\n",
      "Simulation time: 180.0 ms...\n",
      "Simulation time: 190.0 ms...\n",
      "Simulation time: 200.0 ms...\n",
      "Simulation time: 210.0 ms...\n",
      "Simulation time: 220.0 ms...\n",
      "Simulation time: 230.0 ms...\n",
      "Simulation time: 240.0 ms...\n",
      "Simulation time: 250.0 ms...\n",
      "Simulation time: 260.0 ms...\n",
      "Simulation time: 270.0 ms...\n",
      "Simulation time: 280.0 ms...\n",
      "Simulation time: 290.0 ms...\n",
      "Simulation time: 300.0 ms...\n",
      "Simulation time: 310.0 ms...\n",
      "Simulation time: 320.0 ms...\n",
      "Simulation time: 330.0 ms...\n",
      "Simulation time: 340.0 ms...\n",
      "Simulation time: 350.0 ms...\n",
      "Simulation time: 360.0 ms...\n",
      "Simulation time: 370.0 ms...\n",
      "Simulation time: 380.0 ms...\n",
      "Simulation time: 390.0 ms...\n",
      "Simulation time: 400.0 ms...\n",
      "Simulation time: 410.0 ms...\n",
      "Simulation time: 420.0 ms...\n",
      "Simulation time: 430.0 ms...\n",
      "Simulation time: 440.0 ms...\n",
      "Simulation time: 450.0 ms...\n",
      "Simulation time: 460.0 ms...\n",
      "Simulation time: 470.0 ms...\n",
      "Simulation time: 480.0 ms...\n",
      "Simulation time: 490.0 ms...\n"
     ]
    },
    {
     "name": "stderr",
     "output_type": "stream",
     "text": [
      "/home/ntolley/Jones_Lab/hnn_sbi_examples/notebooks/hnn_beta/../../code/utils.py:558: UserWarning: To copy construct from a tensor, it is recommended to use sourceTensor.clone().detach() or sourceTensor.clone().detach().requires_grad_(True), rather than torch.tensor(sourceTensor).\n",
      "  return torch.tensor(x, dtype=torch.float32)\n"
     ]
    },
    {
     "name": "stdout",
     "output_type": "stream",
     "text": [
      "{'dist_var': 2.0, 'prox_var': 4.0}\n",
      "{'dist_var': 10.0, 'prox_var': 20.0}\n",
      "joblib will run over 1 jobs\n",
      "Building the NEURON model\n",
      "[Done]\n",
      "running trial 1 on 1 cores\n",
      "Simulation time: 0.5 ms...\n",
      "Simulation time: 10.0 ms...\n",
      "Simulation time: 20.0 ms...\n",
      "Simulation time: 30.0 ms...\n",
      "Simulation time: 40.0 ms...\n",
      "Simulation time: 50.0 ms...\n",
      "Simulation time: 60.0 ms...\n",
      "Simulation time: 70.0 ms...\n",
      "Simulation time: 80.0 ms...\n",
      "Simulation time: 90.0 ms...\n",
      "Simulation time: 100.0 ms...\n",
      "Simulation time: 110.0 ms...\n",
      "Simulation time: 120.0 ms...\n",
      "Simulation time: 130.0 ms...\n",
      "Simulation time: 140.0 ms...\n",
      "Simulation time: 150.0 ms...\n",
      "Simulation time: 160.0 ms...\n",
      "Simulation time: 170.0 ms...\n",
      "Simulation time: 180.0 ms...\n",
      "Simulation time: 190.0 ms...\n",
      "Simulation time: 200.0 ms...\n",
      "Simulation time: 210.0 ms...\n",
      "Simulation time: 220.0 ms...\n",
      "Simulation time: 230.0 ms...\n",
      "Simulation time: 240.0 ms...\n",
      "Simulation time: 250.0 ms...\n",
      "Simulation time: 260.0 ms...\n",
      "Simulation time: 270.0 ms...\n",
      "Simulation time: 280.0 ms...\n",
      "Simulation time: 290.0 ms...\n",
      "Simulation time: 300.0 ms...\n",
      "Simulation time: 310.0 ms...\n",
      "Simulation time: 320.0 ms...\n",
      "Simulation time: 330.0 ms...\n",
      "Simulation time: 340.0 ms...\n",
      "Simulation time: 350.0 ms...\n",
      "Simulation time: 360.0 ms...\n",
      "Simulation time: 370.0 ms...\n",
      "Simulation time: 380.0 ms...\n",
      "Simulation time: 390.0 ms...\n",
      "Simulation time: 400.0 ms...\n",
      "Simulation time: 410.0 ms...\n",
      "Simulation time: 420.0 ms...\n",
      "Simulation time: 430.0 ms...\n",
      "Simulation time: 440.0 ms...\n",
      "Simulation time: 450.0 ms...\n",
      "Simulation time: 460.0 ms...\n",
      "Simulation time: 470.0 ms...\n",
      "Simulation time: 480.0 ms...\n",
      "Simulation time: 490.0 ms...\n",
      "{'dist_var': 10.0, 'prox_var': 20.0}\n",
      "{'dist_var': 17.999999523162842, 'prox_var': 20.0}\n",
      "joblib will run over 1 jobs\n",
      "Building the NEURON model\n",
      "[Done]\n",
      "running trial 1 on 1 cores\n",
      "Simulation time: 0.5 ms...\n",
      "Simulation time: 10.0 ms...\n",
      "Simulation time: 20.0 ms...\n",
      "Simulation time: 30.0 ms...\n",
      "Simulation time: 40.0 ms...\n",
      "Simulation time: 50.0 ms...\n",
      "Simulation time: 60.0 ms...\n",
      "Simulation time: 70.0 ms...\n",
      "Simulation time: 80.0 ms...\n",
      "Simulation time: 90.0 ms...\n",
      "Simulation time: 100.0 ms...\n",
      "Simulation time: 110.0 ms...\n",
      "Simulation time: 120.0 ms...\n",
      "Simulation time: 130.0 ms...\n",
      "Simulation time: 140.0 ms...\n",
      "Simulation time: 150.0 ms...\n",
      "Simulation time: 160.0 ms...\n",
      "Simulation time: 170.0 ms...\n",
      "Simulation time: 180.0 ms...\n",
      "Simulation time: 190.0 ms...\n",
      "Simulation time: 200.0 ms...\n",
      "Simulation time: 210.0 ms...\n",
      "Simulation time: 220.0 ms...\n",
      "Simulation time: 230.0 ms...\n",
      "Simulation time: 240.0 ms...\n",
      "Simulation time: 250.0 ms...\n",
      "Simulation time: 260.0 ms...\n",
      "Simulation time: 270.0 ms...\n",
      "Simulation time: 280.0 ms...\n",
      "Simulation time: 290.0 ms...\n",
      "Simulation time: 300.0 ms...\n",
      "Simulation time: 310.0 ms...\n",
      "Simulation time: 320.0 ms...\n",
      "Simulation time: 330.0 ms...\n",
      "Simulation time: 340.0 ms...\n",
      "Simulation time: 350.0 ms...\n",
      "Simulation time: 360.0 ms...\n",
      "Simulation time: 370.0 ms...\n",
      "Simulation time: 380.0 ms...\n",
      "Simulation time: 390.0 ms...\n",
      "Simulation time: 400.0 ms...\n",
      "Simulation time: 410.0 ms...\n",
      "Simulation time: 420.0 ms...\n",
      "Simulation time: 430.0 ms...\n",
      "Simulation time: 440.0 ms...\n",
      "Simulation time: 450.0 ms...\n",
      "Simulation time: 460.0 ms...\n",
      "Simulation time: 470.0 ms...\n",
      "Simulation time: 480.0 ms...\n",
      "Simulation time: 490.0 ms...\n",
      "{'dist_var': 18.0, 'prox_var': 20.0}\n"
     ]
    }
   ],
   "source": [
    "# Values on [0,1] mapped to range of bounds defined in prior_dict\n",
    "theta_cond_list = [np.array([0.1, 0.1]), np.array([0.5, 0.5]), np.array([0.9, 0.5])]\n",
    "\n",
    "x_cond_list = list()\n",
    "for theta_cond in theta_cond_list:\n",
    "    theta_dict = {param_name: param_dict['rescale_function'](theta_cond[idx], param_dict['bounds']) for \n",
    "                  idx, (param_name, param_dict) in enumerate(prior_dict.items())}\n",
    "\n",
    "    x_cond = simulator(torch.tensor(theta_cond).float()).numpy()\n",
    "    x_cond_list.append(x_cond)\n",
    "    print(theta_dict)"
   ]
  },
  {
   "cell_type": "code",
   "execution_count": null,
   "metadata": {},
   "outputs": [],
   "source": []
  },
  {
   "cell_type": "code",
   "execution_count": 44,
   "metadata": {},
   "outputs": [
    {
     "name": "stdout",
     "output_type": "stream",
     "text": [
      "71 events averaged\n",
      "40 events averaged\n"
     ]
    }
   ],
   "source": [
    "t_vec = np.linspace(0, 500, x_cond.shape[1])\n",
    "\n",
    "subj_id = 5\n",
    "scale_factor = 60_000\n",
    "small_range, large_range = (-10, 10), (-40, -30)\n",
    "x_real_large = get_mean_beta_event(waveforms[subj_id], large_range[0], large_range[1], zero_idx, real_times, t_vec) / scale_factor\n",
    "x_real_small = get_mean_beta_event(waveforms[subj_id], small_range[0], small_range[1], zero_idx, real_times, t_vec) / scale_factor\n",
    "\n",
    "x_real_list = [x_cond_large, x_cond_small]\n"
   ]
  },
  {
   "cell_type": "code",
   "execution_count": 51,
   "metadata": {},
   "outputs": [
    {
     "data": {
      "text/plain": [
       "Text(0, 0.5, 'Dipole (nAm)')"
      ]
     },
     "execution_count": 51,
     "metadata": {},
     "output_type": "execute_result"
    },
    {
     "data": {
      "image/png": "[encoded data removed]",
      "text/plain": [
       "<Figure size 432x288 with 1 Axes>"
      ]
     },
     "metadata": {},
     "output_type": "display_data"
    }
   ],
   "source": [
    "plt.plot(t_vec, x_cond_list[0].squeeze(), color='k')\n",
    "for x_real in x_real_list:\n",
    "    plt.plot(t_vec, x_real.squeeze())\n",
    "plt.xlabel('Time (ms)')\n",
    "plt.ylabel('Dipole (nAm)')"
   ]
  },
  {
   "cell_type": "code",
   "execution_count": null,
   "metadata": {},
   "outputs": [],
   "source": []
  },
  {
   "cell_type": "code",
   "execution_count": null,
   "metadata": {},
   "outputs": [],
   "source": []
  },
  {
   "cell_type": "code",
   "execution_count": null,
   "metadata": {},
   "outputs": [],
   "source": []
  },
  {
   "cell_type": "code",
   "execution_count": null,
   "metadata": {},
   "outputs": [],
   "source": []
  },
  {
   "cell_type": "code",
   "execution_count": null,
   "metadata": {},
   "outputs": [],
   "source": []
  },
  {
   "cell_type": "code",
   "execution_count": null,
   "metadata": {},
   "outputs": [],
   "source": []
  },
  {
   "cell_type": "code",
   "execution_count": null,
   "metadata": {},
   "outputs": [],
   "source": []
  },
  {
   "cell_type": "code",
   "execution_count": null,
   "metadata": {},
   "outputs": [],
   "source": []
  },
  {
   "cell_type": "code",
   "execution_count": null,
   "metadata": {},
   "outputs": [],
   "source": []
  }
 ],
 "metadata": {
  "kernelspec": {
   "display_name": "Python (sbi)",
   "language": "python",
   "name": "sbi"
  },
  "language_info": {
   "codemirror_mode": {
    "name": "ipython",
    "version": 3
   },
   "file_extension": ".py",
   "mimetype": "text/x-python",
   "name": "python",
   "nbconvert_exporter": "python",
   "pygments_lexer": "ipython3",
   "version": "3.8.11"
  }
 },
 "nbformat": 4,
 "nbformat_minor": 4
}
