{
 "cells": [
  {
   "cell_type": "code",
   "execution_count": 4,
   "metadata": {},
   "outputs": [
    {
     "name": "stderr",
     "output_type": "stream",
     "text": [
      "/home/ntolley/anaconda3/envs/sbi/lib/python3.8/site-packages/dask_jobqueue/core.py:19: FutureWarning: format_bytes is deprecated and will be removed in a future release. Please use dask.utils.format_bytes instead.\n",
      "  from distributed.utils import format_bytes, parse_bytes, tmpfile\n",
      "/home/ntolley/anaconda3/envs/sbi/lib/python3.8/site-packages/dask_jobqueue/core.py:19: FutureWarning: parse_bytes is deprecated and will be removed in a future release. Please use dask.utils.parse_bytes instead.\n",
      "  from distributed.utils import format_bytes, parse_bytes, tmpfile\n",
      "/home/ntolley/anaconda3/envs/sbi/lib/python3.8/site-packages/dask_jobqueue/htcondor.py:6: FutureWarning: parse_bytes is deprecated and will be removed in a future release. Please use dask.utils.parse_bytes instead.\n",
      "  from distributed.utils import parse_bytes\n"
     ]
    }
   ],
   "source": [
    "import sys\n",
    "sys.path.append('../../code')\n",
    "import torch\n",
    "import numpy as np\n",
    "import matplotlib.pyplot as plt\n",
    "from matplotlib.ticker import FormatStrFormatter\n",
    "import seaborn as sns\n",
    "from sbi import inference as sbi_inference\n",
    "from utils import (linear_scale_forward, UniformPrior,\n",
    "                   get_dataset_psd, get_dataset_peaks, load_posterior, simulator_rc)\n",
    "from functools import partial\n",
    "import dill\n",
    "from sbi import utils as sbi_utils\n",
    "import pandas as pd\n",
    "from sklearn.decomposition import PCA\n",
    "rng_seed = 123\n",
    "\n",
    "sns.set()\n",
    "sns.set_style(\"white\")\n",
    "\n",
    "device = 'cpu'\n",
    "data_path = '../../data/rc_circuit'\n",
    "\n",
    "\n",
    "    \n",
    "dt = 0.5 # Sampling interval used for simulation\n",
    "fs =( 1/dt) * 1e3\n",
    "tstop = 350"
   ]
  },
  {
   "cell_type": "code",
   "execution_count": 5,
   "metadata": {},
   "outputs": [],
   "source": [
    "prior_dict = {'amp1': {'bounds': (0, 1), 'scale_func': linear_scale_forward},\n",
    "              'amp2': {'bounds': (0, 1), 'scale_func': linear_scale_forward}, \n",
    "              'latency': {'bounds': (-75, 75), 'scale_func': linear_scale_forward}}"
   ]
  },
  {
   "cell_type": "code",
   "execution_count": 6,
   "metadata": {},
   "outputs": [],
   "source": [
    "simulator = partial(simulator_rc, prior_dict=prior_dict, tstop=350)"
   ]
  },
  {
   "cell_type": "code",
   "execution_count": 8,
   "metadata": {},
   "outputs": [],
   "source": [
    "theta_cond_list = [np.array([0.3, 0.5, 0.5]), np.array([0.3, 0.5, 0.75])]\n",
    "\n",
    "x_cond_list, theta_dict_list = list(), list()\n",
    "for theta_cond in theta_cond_list:\n",
    "    theta_dict = {param_name: param_dict['scale_func'](theta_cond[idx], param_dict['bounds']) for \n",
    "                  idx, (param_name, param_dict) in enumerate(prior_dict.items())}\n",
    "\n",
    "    x_cond = simulator(torch.tensor(theta_cond).float())\n",
    "    \n",
    "    theta_dict_list.append(theta_dict)\n",
    "    x_cond_list.append(x_cond.T)\n"
   ]
  },
  {
   "cell_type": "code",
   "execution_count": 9,
   "metadata": {},
   "outputs": [
    {
     "data": {
      "image/png": "[encoded data removed]",
      "text/plain": [
       "<Figure size 576x216 with 2 Axes>"
      ]
     },
     "metadata": {
      "needs_background": "light"
     },
     "output_type": "display_data"
    }
   ],
   "source": [
    "%matplotlib inline\n",
    "x_cond_psd0, f = get_dataset_psd(x_cond_list[0], fs)\n",
    "x_cond_psd1, _ = get_dataset_psd(x_cond_list[1], fs)\n",
    "\n",
    "t_vec = np.linspace(0, tstop, x_cond_list[0].squeeze().shape[0])\n",
    "plt.figure(figsize=(8,3))\n",
    "plt.subplot(1,2,1)\n",
    "plt.plot(t_vec, x_cond_list[0].squeeze())\n",
    "plt.plot(t_vec, x_cond_list[1].squeeze())\n",
    "plt.xlabel('Time (ms)')\n",
    "plt.ylabel('Voltage (mV)')\n",
    "plt.xlim([100,350])\n",
    "\n",
    "plt.subplot(1,2,2)\n",
    "plt.plot(f, x_cond_psd0.squeeze())\n",
    "plt.plot(f, x_cond_psd1.squeeze())\n",
    "plt.xlabel('Frequency (Hz)')\n",
    "plt.ylabel('log power')\n",
    "plt.xlim([0,100])\n",
    "\n",
    "plt.tight_layout()"
   ]
  },
  {
   "cell_type": "code",
   "execution_count": null,
   "metadata": {},
   "outputs": [],
   "source": []
  },
  {
   "cell_type": "code",
   "execution_count": null,
   "metadata": {},
   "outputs": [],
   "source": []
  },
  {
   "cell_type": "code",
   "execution_count": 30,
   "metadata": {},
   "outputs": [],
   "source": [
    "import scipy\n",
    "\n",
    "def bandpower(x, fs, fmin, fmax):\n",
    "    f, Pxx = scipy.signal.periodogram(x, fs=fs)\n",
    "    ind_min = np.argmax(f > fmin) - 1\n",
    "    ind_max = np.argmax(f > fmax) - 1\n",
    "    return np.trapz(Pxx[ind_min: ind_max], f[ind_min: ind_max])\n",
    "\n",
    "# Bands freq citation: https://www.frontiersin.org/articles/10.3389/fnhum.2020.00089/full\n",
    "def get_dataset_bandpower(x, fs):\n",
    "    freq_band_list = [(8,13), (13,30), (30,50), (50,80)]\n",
    "    \n",
    "    x_bandpower_list = list()\n",
    "    for idx in range(x.shape[0]):\n",
    "        x_bandpower = np.array([bandpower(x[idx,:], fs, freq_band[0], freq_band[1]) for freq_band in freq_band_list])\n",
    "        x_bandpower_list.append(x_bandpower)\n",
    "        \n",
    "    return np.vstack(np.log(x_bandpower_list))"
   ]
  },
  {
   "cell_type": "code",
   "execution_count": null,
   "metadata": {},
   "outputs": [],
   "source": []
  },
  {
   "cell_type": "code",
   "execution_count": null,
   "metadata": {},
   "outputs": [],
   "source": []
  },
  {
   "cell_type": "code",
   "execution_count": 31,
   "metadata": {},
   "outputs": [
    {
     "data": {
      "text/plain": [
       "array([[ -8.39387614,  -7.48534039,  -9.54717087, -11.53381154],\n",
       "       [ -6.18083761,  -5.02342636,  -7.55215552,  -9.16604292]])"
      ]
     },
     "execution_count": 31,
     "metadata": {},
     "output_type": "execute_result"
    }
   ],
   "source": [
    "get_dataset_bandpower(np.array(x_cond_list).squeeze(), fs)"
   ]
  },
  {
   "cell_type": "code",
   "execution_count": null,
   "metadata": {},
   "outputs": [],
   "source": []
  },
  {
   "cell_type": "code",
   "execution_count": null,
   "metadata": {},
   "outputs": [],
   "source": []
  }
 ],
 "metadata": {
  "interpreter": {
   "hash": "bc0812df056bcc44290b2a641a017d9cd3234cb150654c6b1655d167c85b893f"
  },
  "kernelspec": {
   "display_name": "Python (sbi)",
   "language": "python",
   "name": "sbi"
  },
  "language_info": {
   "codemirror_mode": {
    "name": "ipython",
    "version": 3
   },
   "file_extension": ".py",
   "mimetype": "text/x-python",
   "name": "python",
   "nbconvert_exporter": "python",
   "pygments_lexer": "ipython3",
   "version": "3.8.11"
  }
 },
 "nbformat": 4,
 "nbformat_minor": 4
}
