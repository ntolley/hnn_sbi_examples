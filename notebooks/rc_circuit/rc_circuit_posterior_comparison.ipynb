{
 "cells": [
  {
   "cell_type": "code",
   "execution_count": 1,
   "metadata": {},
   "outputs": [
    {
     "name": "stderr",
     "output_type": "stream",
     "text": [
      "/home/ntolley/anaconda3/envs/sbi/lib/python3.8/site-packages/dask_jobqueue/core.py:19: FutureWarning: format_bytes is deprecated and will be removed in a future release. Please use dask.utils.format_bytes instead.\n",
      "  from distributed.utils import format_bytes, parse_bytes, tmpfile\n",
      "/home/ntolley/anaconda3/envs/sbi/lib/python3.8/site-packages/dask_jobqueue/core.py:19: FutureWarning: parse_bytes is deprecated and will be removed in a future release. Please use dask.utils.parse_bytes instead.\n",
      "  from distributed.utils import format_bytes, parse_bytes, tmpfile\n",
      "/home/ntolley/anaconda3/envs/sbi/lib/python3.8/site-packages/dask_jobqueue/htcondor.py:6: FutureWarning: parse_bytes is deprecated and will be removed in a future release. Please use dask.utils.parse_bytes instead.\n",
      "  from distributed.utils import parse_bytes\n"
     ]
    },
    {
     "ename": "KeyError",
     "evalue": "'window_samples'",
     "output_type": "error",
     "traceback": [
      "\u001b[0;31m---------------------------------------------------------------------------\u001b[0m",
      "\u001b[0;31mKeyError\u001b[0m                                  Traceback (most recent call last)",
      "\u001b[0;32m<ipython-input-1-3cb1a3ff010f>\u001b[0m in \u001b[0;36m<module>\u001b[0;34m\u001b[0m\n\u001b[1;32m     33\u001b[0m \u001b[0mdt\u001b[0m \u001b[0;34m=\u001b[0m \u001b[0msim_metadata\u001b[0m\u001b[0;34m[\u001b[0m\u001b[0;34m'dt'\u001b[0m\u001b[0;34m]\u001b[0m \u001b[0;31m# Sampling interval used for simulation\u001b[0m\u001b[0;34m\u001b[0m\u001b[0;34m\u001b[0m\u001b[0m\n\u001b[1;32m     34\u001b[0m \u001b[0mtstop\u001b[0m \u001b[0;34m=\u001b[0m \u001b[0msim_metadata\u001b[0m\u001b[0;34m[\u001b[0m\u001b[0;34m'tstop'\u001b[0m\u001b[0;34m]\u001b[0m \u001b[0;31m# Sampling interval used for simulation\u001b[0m\u001b[0;34m\u001b[0m\u001b[0;34m\u001b[0m\u001b[0m\n\u001b[0;32m---> 35\u001b[0;31m \u001b[0mwindow_samples\u001b[0m \u001b[0;34m=\u001b[0m \u001b[0mposterior_metadata\u001b[0m\u001b[0;34m[\u001b[0m\u001b[0;34m'window_samples'\u001b[0m\u001b[0;34m]\u001b[0m\u001b[0;34m\u001b[0m\u001b[0;34m\u001b[0m\u001b[0m\n\u001b[0m",
      "\u001b[0;31mKeyError\u001b[0m: 'window_samples'"
     ]
    }
   ],
   "source": [
    "import sys\n",
    "sys.path.append('../../code')\n",
    "import torch\n",
    "import numpy as np\n",
    "import matplotlib.pyplot as plt\n",
    "from matplotlib.ticker import FormatStrFormatter\n",
    "import seaborn as sns\n",
    "from sbi import inference as sbi_inference\n",
    "from utils import (linear_scale_array, UniformPrior,\n",
    "                   get_dataset_psd, get_dataset_peaks, load_posterior, simulator_rc)\n",
    "from functools import partial\n",
    "import dill\n",
    "from sbi import utils as sbi_utils\n",
    "import pandas as pd\n",
    "from sklearn.decomposition import PCA\n",
    "rng_seed = 123\n",
    "\n",
    "sns.set()\n",
    "sns.set_style(\"white\")\n",
    "\n",
    "device = 'cpu'\n",
    "data_path = '../../data/rc_circuit'\n",
    "\n",
    "with open(f'{data_path}/posteriors/posterior_dicts.pkl', 'rb') as output_file:\n",
    "    posterior_state_dicts = dill.load(output_file)\n",
    "with open(f'{data_path}/sbi_sims/prior_dict.pkl', 'rb') as output_file:\n",
    "    prior_dict = dill.load(output_file)\n",
    "with open(f'{data_path}/sbi_sims/sim_metadata.pkl', 'rb') as output_file:\n",
    "    sim_metadata = dill.load(output_file)\n",
    "with open(f'{data_path}/posteriors/posterior_metadata.pkl', 'rb') as output_file:\n",
    "    posterior_metadata = dill.load(output_file)\n",
    "    \n",
    "dt = sim_metadata['dt'] # Sampling interval used for simulation\n",
    "tstop = sim_metadata['tstop'] # Sampling interval used for simulation\n",
    "window_samples = posterior_metadata['window_samples'] "
   ]
  },
  {
   "cell_type": "code",
   "execution_count": null,
   "metadata": {},
   "outputs": [],
   "source": [
    "# Parameter bounds\n",
    "for param_name, param_dict in prior_dict.items():\n",
    "    print(f'{param_name}:{param_dict[\"bounds\"]}', end=' ')"
   ]
  },
  {
   "cell_type": "code",
   "execution_count": null,
   "metadata": {},
   "outputs": [],
   "source": []
  },
  {
   "cell_type": "markdown",
   "metadata": {},
   "source": [
    "### Generate conditioning waveform"
   ]
  },
  {
   "cell_type": "code",
   "execution_count": 5,
   "metadata": {},
   "outputs": [],
   "source": [
    "simulator = partial(simulator_rc, prior_dict=prior_dict, tstop=tstop)"
   ]
  },
  {
   "cell_type": "code",
   "execution_count": 1,
   "metadata": {},
   "outputs": [
    {
     "ename": "NameError",
     "evalue": "name 'np' is not defined",
     "output_type": "error",
     "traceback": [
      "\u001b[0;31m---------------------------------------------------------------------------\u001b[0m",
      "\u001b[0;31mNameError\u001b[0m                                 Traceback (most recent call last)",
      "\u001b[0;32m<ipython-input-1-7f039e8ea257>\u001b[0m in \u001b[0;36m<module>\u001b[0;34m\u001b[0m\n\u001b[1;32m      1\u001b[0m \u001b[0;31m# Values on [0,1] mapped to range of bounds defined in prior_dict\u001b[0m\u001b[0;34m\u001b[0m\u001b[0;34m\u001b[0m\u001b[0;34m\u001b[0m\u001b[0m\n\u001b[0;32m----> 2\u001b[0;31m \u001b[0mtheta_cond_list\u001b[0m \u001b[0;34m=\u001b[0m \u001b[0;34m[\u001b[0m\u001b[0mnp\u001b[0m\u001b[0;34m.\u001b[0m\u001b[0marray\u001b[0m\u001b[0;34m(\u001b[0m\u001b[0;34m[\u001b[0m\u001b[0;36m0.3\u001b[0m\u001b[0;34m,\u001b[0m \u001b[0;36m0.5\u001b[0m\u001b[0;34m,\u001b[0m \u001b[0;36m0.5\u001b[0m\u001b[0;34m]\u001b[0m\u001b[0;34m)\u001b[0m\u001b[0;34m,\u001b[0m \u001b[0mnp\u001b[0m\u001b[0;34m.\u001b[0m\u001b[0marray\u001b[0m\u001b[0;34m(\u001b[0m\u001b[0;34m[\u001b[0m\u001b[0;36m0.3\u001b[0m\u001b[0;34m,\u001b[0m \u001b[0;36m0.5\u001b[0m\u001b[0;34m,\u001b[0m \u001b[0;36m0.75\u001b[0m\u001b[0;34m]\u001b[0m\u001b[0;34m)\u001b[0m\u001b[0;34m]\u001b[0m\u001b[0;34m\u001b[0m\u001b[0;34m\u001b[0m\u001b[0m\n\u001b[0m\u001b[1;32m      3\u001b[0m \u001b[0;34m\u001b[0m\u001b[0m\n\u001b[1;32m      4\u001b[0m \u001b[0mx_cond_list\u001b[0m\u001b[0;34m,\u001b[0m \u001b[0mtheta_dict_list\u001b[0m \u001b[0;34m=\u001b[0m \u001b[0mlist\u001b[0m\u001b[0;34m(\u001b[0m\u001b[0;34m)\u001b[0m\u001b[0;34m,\u001b[0m \u001b[0mlist\u001b[0m\u001b[0;34m(\u001b[0m\u001b[0;34m)\u001b[0m\u001b[0;34m\u001b[0m\u001b[0;34m\u001b[0m\u001b[0m\n\u001b[1;32m      5\u001b[0m \u001b[0;32mfor\u001b[0m \u001b[0mtheta_cond\u001b[0m \u001b[0;32min\u001b[0m \u001b[0mtheta_cond_list\u001b[0m\u001b[0;34m:\u001b[0m\u001b[0;34m\u001b[0m\u001b[0;34m\u001b[0m\u001b[0m\n",
      "\u001b[0;31mNameError\u001b[0m: name 'np' is not defined"
     ]
    }
   ],
   "source": [
    "# Values on [0,1] mapped to range of bounds defined in prior_dict\n",
    "theta_cond_list = [np.array([0.3, 0.5, 0.5]), np.array([0.3, 0.5, 0.75])]\n",
    "\n",
    "x_cond_list, theta_dict_list = list(), list()\n",
    "for theta_cond in theta_cond_list:\n",
    "    theta_dict = {param_name: param_dict['scale_func'](theta_cond[idx], param_dict['bounds']) for \n",
    "                  idx, (param_name, param_dict) in enumerate(prior_dict.items())}\n",
    "\n",
    "    x_cond = simulator(torch.tensor(theta_cond).float())\n",
    "    x_cond = x_cond[:, window_samples[0]:window_samples[1]]\n",
    "                   \n",
    "    theta_dict_list.append(theta_dict)\n",
    "    x_cond_list.append(x_cond.T)\n"
   ]
  },
  {
   "cell_type": "code",
   "execution_count": null,
   "metadata": {},
   "outputs": [],
   "source": []
  },
  {
   "cell_type": "code",
   "execution_count": 7,
   "metadata": {},
   "outputs": [
    {
     "data": {
      "image/png": "[encoded data removed]",
      "text/plain": [
       "<Figure size 576x216 with 2 Axes>"
      ]
     },
     "metadata": {
      "needs_background": "light"
     },
     "output_type": "display_data"
    }
   ],
   "source": [
    "%matplotlib inline\n",
    "\n",
    "x_cond_psd0, f = get_dataset_psd(x_cond_list[0], posterior_metadata['fs'])\n",
    "x_cond_psd1, _ = get_dataset_psd(x_cond_list[1], posterior_metadata['fs'])\n",
    "\n",
    "t_vec = np.linspace(0, tstop, x_cond_list[0].squeeze().shape[0])\n",
    "plt.figure(figsize=(8,3))\n",
    "plt.subplot(1,2,1)\n",
    "plt.plot(t_vec, x_cond_list[0].squeeze())\n",
    "plt.plot(t_vec, x_cond_list[1].squeeze())\n",
    "plt.xlabel('Time (ms)')\n",
    "plt.ylabel('Voltage (mV)')\n",
    "\n",
    "plt.subplot(1,2,2)\n",
    "plt.plot(f, x_cond_psd0.squeeze())\n",
    "plt.plot(f, x_cond_psd1.squeeze())\n",
    "plt.xlabel('Frequency (Hz)')\n",
    "plt.ylabel('log power')\n",
    "\n",
    "plt.tight_layout()"
   ]
  },
  {
   "cell_type": "markdown",
   "metadata": {},
   "source": [
    "### Load trained posterior objects"
   ]
  },
  {
   "cell_type": "code",
   "execution_count": 8,
   "metadata": {},
   "outputs": [
    {
     "name": "stdout",
     "output_type": "stream",
     "text": [
      "['raw_waveform', 'pca4', 'pca30', 'peak', 'psd', 'psd_peak']\n"
     ]
    }
   ],
   "source": [
    "prior = UniformPrior(parameters=list(prior_dict.keys()))\n",
    "n_params = len(prior_dict)\n",
    "limits = list(prior_dict.values())\n",
    "\n",
    "# x_orig stores full waveform to be used for embedding\n",
    "x_orig, theta_orig = np.load(f'{data_path}/sbi_sims/x_sbi.npy'), np.load(f'{data_path}/sbi_sims/theta_sbi.npy')\n",
    "\n",
    "posterior_names = list(posterior_state_dicts.keys())\n",
    "\n",
    "# Pick posterior to load\n",
    "name_idx = 0\n",
    "\n",
    "input_type = posterior_names[name_idx]\n",
    "posterior_dict = posterior_state_dicts[input_type]\n",
    "state_dict = posterior_dict['posterior']\n",
    "n_params = posterior_dict['n_params']\n",
    "n_sims = posterior_dict['n_sims']\n",
    "input_dict = posterior_dict['input_dict']\n",
    "\n",
    "embedding_net =  input_dict['embedding_func'](**input_dict['embedding_dict'])\n",
    "\n",
    "print(posterior_names)"
   ]
  },
  {
   "cell_type": "code",
   "execution_count": null,
   "metadata": {},
   "outputs": [],
   "source": []
  },
  {
   "cell_type": "code",
   "execution_count": null,
   "metadata": {},
   "outputs": [],
   "source": []
  },
  {
   "cell_type": "code",
   "execution_count": null,
   "metadata": {},
   "outputs": [],
   "source": []
  },
  {
   "cell_type": "code",
   "execution_count": 7,
   "metadata": {},
   "outputs": [
    {
     "name": "stdout",
     "output_type": "stream",
     "text": [
      "Conditioning Feature: pca30\n",
      "Training neural network. Epochs trained:  3\r"
     ]
    },
    {
     "data": {
      "application/vnd.jupyter.widget-view+json": {
       "model_id": "6a5c95cb055142de9c3727c26ff4edeb",
       "version_major": 2,
       "version_minor": 0
      },
      "text/plain": [
       "Drawing 1000 posterior samples:   0%|          | 0/1000 [00:00<?, ?it/s]"
      ]
     },
     "metadata": {},
     "output_type": "display_data"
    },
    {
     "name": "stdout",
     "output_type": "stream",
     "text": [
      "Training neural network. Epochs trained:  3\r"
     ]
    },
    {
     "data": {
      "application/vnd.jupyter.widget-view+json": {
       "model_id": "e33921367bc14f0faa93ccd6bcb2aac3",
       "version_major": 2,
       "version_minor": 0
      },
      "text/plain": [
       "Drawing 1000 posterior samples:   0%|          | 0/1000 [00:00<?, ?it/s]"
      ]
     },
     "metadata": {},
     "output_type": "display_data"
    }
   ],
   "source": [
    "print(f'Conditioning Feature: {posterior_names[name_idx]}')\n",
    "\n",
    "num_samples = 1000\n",
    "all_labels = list(prior_dict.keys())\n",
    "all_bounds = [param_dict['bounds'] for param_dict in prior_dict.values()]\n",
    "\n",
    "df_list, theta_cond_transformed_list = list(), list()\n",
    "cond_name = ['Large', 'Small']\n",
    "for x_cond, cond_name, theta_cond in zip(x_cond_list, cond_name, theta_cond_list):\n",
    "    load_info = {name: {'x_train': posterior_dict['input_dict']['feature_func'](x_orig), \n",
    "                        'x_cond': posterior_dict['input_dict']['feature_func'](x_cond)}\n",
    "                 for name, posterior_dict in posterior_state_dicts.items()}\n",
    "    posterior = load_posterior(state_dict=state_dict,\n",
    "                               x_infer=torch.tensor(load_info[input_type]['x_train'][:10,:]).float(),\n",
    "                               theta_infer=torch.tensor(theta_orig[:10,:]), prior=prior, embedding_net=embedding_net)\n",
    "    \n",
    "    samples = posterior.sample((num_samples,), x=torch.tensor(load_info[input_type]['x_cond'].squeeze()))\n",
    "    samples_transformed = linear_scale_array(samples.numpy(), all_bounds)\n",
    "\n",
    "    theta_cond_transformed = linear_scale_array(theta_cond.reshape(1,-1), all_bounds)[0]\n",
    "    df_dict = {name: samples_transformed[:, idx] for idx, name in enumerate(all_labels)}\n",
    "    df_dict['cond_name'] = np.repeat(cond_name, num_samples)\n",
    "\n",
    "    df_temp = pd.DataFrame(df_dict)\n",
    "    \n",
    "    theta_cond_transformed_list.append(theta_cond_transformed)\n",
    "    df_list.append(df_temp)\n",
    "df = pd.concat(df_list)"
   ]
  },
  {
   "cell_type": "code",
   "execution_count": null,
   "metadata": {},
   "outputs": [],
   "source": []
  },
  {
   "cell_type": "code",
   "execution_count": 8,
   "metadata": {},
   "outputs": [],
   "source": [
    "df.columns = ['Amp 1 (mA)', 'Amp 2 (mA)', 'Latency (ms)', 'cond_name']"
   ]
  },
  {
   "cell_type": "markdown",
   "metadata": {},
   "source": [
    "### Draw samples and plot"
   ]
  },
  {
   "cell_type": "code",
   "execution_count": 50,
   "metadata": {},
   "outputs": [
    {
     "data": {
      "image/png": "[encoded data removed]",
      "text/plain": [
       "<Figure size 540x540 with 12 Axes>"
      ]
     },
     "metadata": {
      "needs_background": "light"
     },
     "output_type": "display_data"
    }
   ],
   "source": [
    "g = sns.PairGrid(df, hue='cond_name', diag_sharey=False, corner=False)\n",
    "g.map_lower(sns.scatterplot, alpha=0.2)\n",
    "#g.map_upper(sns.kdeplot, fill=False)\n",
    "g.map_diag(sns.kdeplot, fill=True)\n",
    "\n",
    "for idx in range(3):    \n",
    "    # Add space to visuzalize groundtruth tick marks at top\n",
    "    y_diff = np.abs(all_bounds[idx][1] - all_bounds[idx][0])\n",
    "\n",
    "    g.axes[idx, idx].set_xlim(all_bounds[idx])\n",
    "    g.axes[idx, idx].set_ylim(all_bounds[idx])\n",
    "    \n",
    "    g.axes[idx,idx].scatter(theta_cond_transformed_list[0][idx], all_bounds[idx][1] - y_diff*0.1,\n",
    "                            color='blue', marker='*', s=100)\n",
    "    g.axes[idx,idx].scatter(theta_cond_transformed_list[1][idx], all_bounds[idx][1] - y_diff*0.1,\n",
    "                            color='orange', marker='*', s=100)\n",
    "\n",
    "for idx1 in range(3):\n",
    "    for idx2 in range(3):\n",
    "        if g.axes[idx1, idx2] != None:\n",
    "            g.axes[idx1, idx2].yaxis.set_major_formatter(FormatStrFormatter('%.1f'))\n",
    "            g.axes[idx1, idx2].xaxis.set_major_formatter(FormatStrFormatter('%.1f'))\n",
    "plt.tight_layout()"
   ]
  },
  {
   "cell_type": "code",
   "execution_count": null,
   "metadata": {},
   "outputs": [],
   "source": []
  },
  {
   "cell_type": "code",
   "execution_count": null,
   "metadata": {},
   "outputs": [],
   "source": []
  },
  {
   "cell_type": "code",
   "execution_count": null,
   "metadata": {},
   "outputs": [],
   "source": []
  },
  {
   "cell_type": "code",
   "execution_count": null,
   "metadata": {},
   "outputs": [],
   "source": []
  },
  {
   "cell_type": "code",
   "execution_count": null,
   "metadata": {},
   "outputs": [],
   "source": []
  },
  {
   "cell_type": "code",
   "execution_count": null,
   "metadata": {},
   "outputs": [],
   "source": []
  },
  {
   "cell_type": "code",
   "execution_count": null,
   "metadata": {},
   "outputs": [],
   "source": []
  },
  {
   "cell_type": "code",
   "execution_count": null,
   "metadata": {},
   "outputs": [],
   "source": []
  },
  {
   "cell_type": "code",
   "execution_count": null,
   "metadata": {},
   "outputs": [],
   "source": []
  },
  {
   "cell_type": "code",
   "execution_count": null,
   "metadata": {},
   "outputs": [],
   "source": []
  },
  {
   "cell_type": "code",
   "execution_count": null,
   "metadata": {},
   "outputs": [],
   "source": []
  },
  {
   "cell_type": "code",
   "execution_count": null,
   "metadata": {},
   "outputs": [],
   "source": []
  },
  {
   "cell_type": "code",
   "execution_count": null,
   "metadata": {},
   "outputs": [],
   "source": []
  },
  {
   "cell_type": "code",
   "execution_count": null,
   "metadata": {},
   "outputs": [],
   "source": []
  },
  {
   "cell_type": "code",
   "execution_count": null,
   "metadata": {},
   "outputs": [],
   "source": []
  },
  {
   "cell_type": "code",
   "execution_count": null,
   "metadata": {},
   "outputs": [],
   "source": []
  },
  {
   "cell_type": "code",
   "execution_count": null,
   "metadata": {},
   "outputs": [],
   "source": []
  }
 ],
 "metadata": {
  "kernelspec": {
   "display_name": "Python (sbi)",
   "language": "python",
   "name": "sbi"
  },
  "language_info": {
   "codemirror_mode": {
    "name": "ipython",
    "version": 3
   },
   "file_extension": ".py",
   "mimetype": "text/x-python",
   "name": "python",
   "nbconvert_exporter": "python",
   "pygments_lexer": "ipython3",
   "version": "3.8.11"
  }
 },
 "nbformat": 4,
 "nbformat_minor": 4
}
