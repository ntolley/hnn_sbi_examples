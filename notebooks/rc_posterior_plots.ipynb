{
 "cells": [
  {
   "cell_type": "code",
   "execution_count": 38,
   "metadata": {},
   "outputs": [],
   "source": [
    "import sys\n",
    "sys.path.append('../code')\n",
    "import torch\n",
    "import numpy as np\n",
    "import matplotlib.pyplot as plt\n",
    "from matplotlib.ticker import FormatStrFormatter\n",
    "import seaborn as sns\n",
    "from sbi import inference as sbi_inference\n",
    "from utils import (linear_scale_forward, run_rc_sim, UniformPrior, linear_scale_array,\n",
    "                   get_dataset_psd, get_dataset_peaks, load_posterior)\n",
    "import dill\n",
    "from sbi import utils as sbi_utils\n",
    "import pandas as pd\n",
    "from sklearn.decomposition import PCA\n",
    "rng_seed = 123\n",
    "\n",
    "sns.set()\n",
    "sns.set_style(\"white\")\n",
    "\n",
    "device = 'cpu'\n",
    "data_path = '../data/rc_circuit'\n",
    "\n",
    "with open(f'{data_path}/posteriors/rc_posterior_dicts.pkl', 'rb') as output_file:\n",
    "    posterior_state_dicts = dill.load(output_file)\n",
    "with open(f'{data_path}/sbi_sims/prior_dict.pkl', 'rb') as output_file:\n",
    "    prior_dict = dill.load(output_file)\n",
    "with open(f'{data_path}/sbi_sims/sim_metadata.pkl', 'rb') as output_file:\n",
    "    sim_metadata = dill.load(output_file)\n",
    "with open(f'{data_path}/posteriors/rc_posterior_metadata.pkl', 'rb') as output_file:\n",
    "    posterior_metadata = dill.load(output_file)\n",
    "    \n",
    "dt = sim_metadata['dt'] # Sampling interval used for simulation\n",
    "tstop = sim_metadata['tstop'] # Sampling interval used for simulation\n",
    "\n",
    "t_vec = np.linspace(0, tstop, np.round(tstop/dt).astype(int))"
   ]
  },
  {
   "cell_type": "code",
   "execution_count": 39,
   "metadata": {},
   "outputs": [
    {
     "name": "stdout",
     "output_type": "stream",
     "text": [
      "amp1:(0, 1) amp2:(-1, 0) latency:(-20, 20) "
     ]
    }
   ],
   "source": [
    "# Parameter bounds\n",
    "for param_name, param_dict in prior_dict.items():\n",
    "    print(f'{param_name}:{param_dict[\"bounds\"]}', end=' ')"
   ]
  },
  {
   "cell_type": "markdown",
   "metadata": {},
   "source": [
    "### Generate conditioning waveform"
   ]
  },
  {
   "cell_type": "code",
   "execution_count": 40,
   "metadata": {},
   "outputs": [
    {
     "name": "stdout",
     "output_type": "stream",
     "text": [
      "{'amp1': 0.5, 'amp2': -0.30000000000000004, 'latency': 12.0}\n"
     ]
    }
   ],
   "source": [
    "# Values on [0,1] mapped to range of bounds defined in prior_dict\n",
    "theta_cond = np.array([0.5, 0.7, 0.8]) \n",
    "\n",
    "theta_dict = {param_name: param_dict['scale_func'](theta_cond[idx], param_dict['bounds']) for \n",
    "              idx, (param_name, param_dict) in enumerate(prior_dict.items())}\n",
    "x_cond = run_rc_sim(theta_dict)\n",
    "print(theta_dict)"
   ]
  },
  {
   "cell_type": "code",
   "execution_count": 41,
   "metadata": {},
   "outputs": [
    {
     "data": {
      "text/plain": [
       "Text(0, 0.5, 'Voltage (V)')"
      ]
     },
     "execution_count": 41,
     "metadata": {},
     "output_type": "execute_result"
    },
    {
     "data": {
      "image/png": "[encoded data removed]",
      "text/plain": [
       "<Figure size 432x288 with 1 Axes>"
      ]
     },
     "metadata": {
      "needs_background": "light"
     },
     "output_type": "display_data"
    }
   ],
   "source": [
    "%matplotlib inline\n",
    "plt.plot(t_vec, x_cond)\n",
    "plt.xlabel('Time (ms)')\n",
    "plt.ylabel('Voltage (V)')"
   ]
  },
  {
   "cell_type": "markdown",
   "metadata": {},
   "source": [
    "### Load trained posterior objects"
   ]
  },
  {
   "cell_type": "code",
   "execution_count": 42,
   "metadata": {},
   "outputs": [
    {
     "name": "stdout",
     "output_type": "stream",
     "text": [
      "['rc_raw_waveform_noise', 'rc_pca_noise', 'rc_peak_noise', 'rc_psd_noise', 'rc_psd_peak_noise']\n"
     ]
    }
   ],
   "source": [
    "prior = UniformPrior(parameters=list(prior_dict.keys()))\n",
    "n_params = len(prior_dict)\n",
    "limits = list(prior_dict.values())\n",
    "\n",
    "# x_orig stores full waveform to be used for embedding\n",
    "x_orig, theta_orig = np.load(f'{data_path}/sbi_sims/x_sbi.npy'), np.load(f'{data_path}/sbi_sims/theta_sbi.npy')\n",
    "x_orig_peak = get_dataset_peaks(x_orig)\n",
    "x_cond_peak = get_dataset_peaks(x_cond.T)\n",
    "\n",
    "fs = posterior_metadata['fs'] # Frequency defined for PSD\n",
    "x_orig_psd, f = get_dataset_psd(x_orig, fs=fs)\n",
    "x_cond_psd, f = get_dataset_psd(x_cond.T, fs=fs)\n",
    "\n",
    "pca = PCA(n_components=10, random_state=rng_seed)\n",
    "pca.fit(x_orig)\n",
    "x_orig_pca = pca.transform(x_orig)\n",
    "x_cond_pca = pca.transform(x_cond.T)\n",
    "\n",
    "load_info = {'raw_waveform_noise': {'x_train': x_orig, 'x_cond': x_cond},\n",
    "             'pca_noise': {'x_train': x_orig_pca, 'x_cond': x_cond_pca},\n",
    "             'peak_noise': {'x_train': x_orig_peak, 'x_cond': x_cond_peak},\n",
    "             'psd_noise': {'x_train': x_orig_psd, 'x_cond': x_cond_psd}}\n",
    "\n",
    "posterior_names = list(posterior_state_dicts.keys())\n",
    "print(posterior_names)"
   ]
  },
  {
   "cell_type": "code",
   "execution_count": null,
   "metadata": {},
   "outputs": [],
   "source": []
  },
  {
   "cell_type": "code",
   "execution_count": 43,
   "metadata": {},
   "outputs": [
    {
     "name": "stdout",
     "output_type": "stream",
     "text": [
      "Training neural network. Epochs trained:  3\r"
     ]
    }
   ],
   "source": [
    "name_idx = 0 # Pick posterior to load\n",
    "\n",
    "name = posterior_names[name_idx]\n",
    "posterior_dict = posterior_state_dicts[name]\n",
    "state_dict = posterior_dict['posterior']\n",
    "n_params = posterior_dict['n_params']\n",
    "input_type = posterior_dict['input_type']\n",
    "n_sims = posterior_dict['n_sims']\n",
    "input_dict = posterior_dict['input_dict']\n",
    "\n",
    "embedding_net =  input_dict['embedding_func'](**input_dict['embedding_dict'])\n",
    "\n",
    "posterior = load_posterior(state_dict=state_dict,\n",
    "                           x_infer=torch.tensor(load_info[input_type]['x_train'][:10,:]).float(),\n",
    "                           theta_infer=torch.tensor(theta_orig[:10,:]), prior=prior, embedding_net=embedding_net)"
   ]
  },
  {
   "cell_type": "markdown",
   "metadata": {},
   "source": [
    "### Draw samples and plot"
   ]
  },
  {
   "cell_type": "code",
   "execution_count": 44,
   "metadata": {},
   "outputs": [
    {
     "name": "stdout",
     "output_type": "stream",
     "text": [
      "Conditioning Feature: rc_raw_waveform_noise\n"
     ]
    },
    {
     "data": {
      "application/vnd.jupyter.widget-view+json": {
       "model_id": "94b0c406a9cc44b8b85106498d654ed3",
       "version_major": 2,
       "version_minor": 0
      },
      "text/plain": [
       "Drawing 1000 posterior samples:   0%|          | 0/1000 [00:00<?, ?it/s]"
      ]
     },
     "metadata": {},
     "output_type": "display_data"
    },
    {
     "data": {
      "image/png": "[encoded data removed]",
      "text/plain": [
       "<Figure size 540x540 with 12 Axes>"
      ]
     },
     "metadata": {
      "needs_background": "light"
     },
     "output_type": "display_data"
    }
   ],
   "source": [
    "print(f'Conditioning Feature: {posterior_names[name_idx]}')\n",
    "num_samples = 1000\n",
    "\n",
    "all_labels = ['Amp 1 (mA)', 'Amp 2 (mA)', 'Latency (ms)']\n",
    "all_bounds = [param_dict['bounds'] for param_dict in prior_dict.values()]\n",
    "\n",
    "samples = posterior.sample((num_samples,), x=torch.tensor(load_info[input_type]['x_cond'].squeeze()))\n",
    "samples_transformed = linear_scale_array(samples.numpy(), all_bounds)\n",
    "\n",
    "theta_cond_transformed = list(theta_dict.values())\n",
    "\n",
    "df_dict = {name: samples_transformed[:, idx] for idx, name in enumerate(all_labels)}\n",
    "\n",
    "df = pd.DataFrame(df_dict)\n",
    "\n",
    "g = sns.PairGrid(df,  diag_sharey=False)\n",
    "g.map_lower(sns.scatterplot)\n",
    "g.map_upper(sns.kdeplot, fill=True)\n",
    "g.map_diag(sns.kdeplot, fill=True)\n",
    "\n",
    "for idx in range(3):\n",
    "    g.axes[idx, idx].axvline(theta_cond_transformed[idx], color='r', linewidth=4) \n",
    "    g.axes[idx, idx].set_xlim(all_bounds[idx])\n",
    "    g.axes[idx, idx].set_ylim(all_bounds[idx])\n",
    "\n",
    "for idx1 in range(3):\n",
    "    for idx2 in range(3):\n",
    "        g.axes[idx1, idx2].yaxis.set_major_formatter(FormatStrFormatter('%.1f'))\n",
    "        g.axes[idx1, idx2].xaxis.set_major_formatter(FormatStrFormatter('%.1f'))\n",
    "plt.tight_layout()"
   ]
  },
  {
   "cell_type": "code",
   "execution_count": null,
   "metadata": {},
   "outputs": [],
   "source": []
  },
  {
   "cell_type": "code",
   "execution_count": null,
   "metadata": {},
   "outputs": [],
   "source": []
  },
  {
   "cell_type": "code",
   "execution_count": null,
   "metadata": {},
   "outputs": [],
   "source": []
  },
  {
   "cell_type": "code",
   "execution_count": null,
   "metadata": {},
   "outputs": [],
   "source": []
  },
  {
   "cell_type": "code",
   "execution_count": null,
   "metadata": {},
   "outputs": [],
   "source": []
  },
  {
   "cell_type": "code",
   "execution_count": null,
   "metadata": {},
   "outputs": [],
   "source": []
  }
 ],
 "metadata": {
  "kernelspec": {
   "display_name": "Python (sbi)",
   "language": "python",
   "name": "sbi"
  },
  "language_info": {
   "codemirror_mode": {
    "name": "ipython",
    "version": 3
   },
   "file_extension": ".py",
   "mimetype": "text/x-python",
   "name": "python",
   "nbconvert_exporter": "python",
   "pygments_lexer": "ipython3",
   "version": "3.8.11"
  }
 },
 "nbformat": 4,
 "nbformat_minor": 4
}
